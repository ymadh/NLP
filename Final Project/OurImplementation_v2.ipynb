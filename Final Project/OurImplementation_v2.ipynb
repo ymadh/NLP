{
 "cells": [
  {
   "cell_type": "markdown",
   "id": "assured-findings",
   "metadata": {},
   "source": [
    "# Implementing DistilBERT"
   ]
  },
  {
   "cell_type": "markdown",
   "id": "dutch-married",
   "metadata": {},
   "source": [
    "## Import Libraries"
   ]
  },
  {
   "cell_type": "code",
   "execution_count": 1,
   "id": "settled-paper",
   "metadata": {},
   "outputs": [],
   "source": [
    "import pandas as pd\n",
    "import numpy as np\n",
    "import torch as tc\n",
    "import transformers as tns\n",
    "import tensorflow as tf\n",
    "import textblob as tb\n",
    "import regex as re\n",
    "import nltk\n",
    "import matplotlib.pyplot as plt\n",
    "from sklearn.model_selection import train_test_split as tts\n",
    "from sklearn.linear_model import LogisticRegression\n",
    "\n",
    "_wordnet = nltk.corpus.wordnet"
   ]
  },
  {
   "cell_type": "markdown",
   "id": "remarkable-superintendent",
   "metadata": {},
   "source": [
    "## Read Data"
   ]
  },
  {
   "cell_type": "code",
   "execution_count": 2,
   "id": "spoken-zambia",
   "metadata": {},
   "outputs": [
    {
     "data": {
      "image/png": "[encoded data removed]",
      "text/plain": [
       "<Figure size 432x288 with 1 Axes>"
      ]
     },
     "metadata": {
      "needs_background": "light"
     },
     "output_type": "display_data"
    }
   ],
   "source": [
    "# Uncomment for sample of 100 reviews\n",
    "# sourcefile = 'Data/review_100.json'\n",
    "\n",
    "# Uncomment for sample of 1,000 reviews\n",
    "sourcefile = 'Data/review_1000.json'\n",
    "\n",
    "# Uncomment for sample of 10,000 reviews\n",
    "# sourcefile = 'Data/review_10000.json'\n",
    "\n",
    "# Load into DataFrame\n",
    "data = pd.read_json(sourcefile, lines=True)\n",
    "\n",
    "# Add Sentiment Column and Restructure DataFrame\n",
    "data['Sentiment'] = data['stars'].apply(lambda score: \"Positive\" if score > 3 else \"Negative\")\n",
    "data.rename(columns={'text':'Review', 'stars':'Rating'}, inplace=True)\n",
    "data = data[['Review', 'Rating', 'Sentiment']]\n",
    "\n",
    "# Display the sentiment distribution\n",
    "plt.bar(data.Sentiment.unique(), data.Sentiment.value_counts(), color = ['red', 'green'])\n",
    "plt.title('Sentiment of Review Dataset')\n",
    "plt.xlabel('Sentiment')\n",
    "plt.ylabel('Review Count')\n",
    "\n",
    "# Convert 'Positive' or 'Negative' to 1 or 0\n",
    "data['Sentiment'] = data['Sentiment'].apply(lambda score: 1 if score == 'Positive' else 0)"
   ]
  },
  {
   "cell_type": "code",
   "execution_count": 3,
   "id": "powerful-overview",
   "metadata": {
    "scrolled": true
   },
   "outputs": [
    {
     "data": {
      "text/html": [
       "<div>\n",
       "<style scoped>\n",
       "    .dataframe tbody tr th:only-of-type {\n",
       "        vertical-align: middle;\n",
       "    }\n",
       "\n",
       "    .dataframe tbody tr th {\n",
       "        vertical-align: top;\n",
       "    }\n",
       "\n",
       "    .dataframe thead th {\n",
       "        text-align: right;\n",
       "    }\n",
       "</style>\n",
       "<table border=\"1\" class=\"dataframe\">\n",
       "  <thead>\n",
       "    <tr style=\"text-align: right;\">\n",
       "      <th></th>\n",
       "      <th>Review</th>\n",
       "      <th>Rating</th>\n",
       "      <th>Sentiment</th>\n",
       "    </tr>\n",
       "  </thead>\n",
       "  <tbody>\n",
       "    <tr>\n",
       "      <th>454</th>\n",
       "      <td>Great place for a drink, nice friendly staff. ...</td>\n",
       "      <td>4</td>\n",
       "      <td>1</td>\n",
       "    </tr>\n",
       "    <tr>\n",
       "      <th>928</th>\n",
       "      <td>First time visit the other day, amazing!!!! Be...</td>\n",
       "      <td>5</td>\n",
       "      <td>1</td>\n",
       "    </tr>\n",
       "    <tr>\n",
       "      <th>328</th>\n",
       "      <td>So worth the wait! The crepes are amazing! I a...</td>\n",
       "      <td>5</td>\n",
       "      <td>1</td>\n",
       "    </tr>\n",
       "    <tr>\n",
       "      <th>782</th>\n",
       "      <td>We arrived a few minutes early for a 7pm reser...</td>\n",
       "      <td>1</td>\n",
       "      <td>0</td>\n",
       "    </tr>\n",
       "    <tr>\n",
       "      <th>873</th>\n",
       "      <td>Had not been for years.\\n\\nWe went for lunch. ...</td>\n",
       "      <td>2</td>\n",
       "      <td>0</td>\n",
       "    </tr>\n",
       "    <tr>\n",
       "      <th>307</th>\n",
       "      <td>The Shop is an amazing space! Their attention ...</td>\n",
       "      <td>5</td>\n",
       "      <td>1</td>\n",
       "    </tr>\n",
       "    <tr>\n",
       "      <th>557</th>\n",
       "      <td>Stayed for one week post Christmas. Unless you...</td>\n",
       "      <td>2</td>\n",
       "      <td>0</td>\n",
       "    </tr>\n",
       "    <tr>\n",
       "      <th>259</th>\n",
       "      <td>A good place to order from when its late and y...</td>\n",
       "      <td>3</td>\n",
       "      <td>0</td>\n",
       "    </tr>\n",
       "    <tr>\n",
       "      <th>630</th>\n",
       "      <td>This is one of my favorite bead stores in Nash...</td>\n",
       "      <td>5</td>\n",
       "      <td>1</td>\n",
       "    </tr>\n",
       "    <tr>\n",
       "      <th>526</th>\n",
       "      <td>After a long hiatus from reviewing I have awak...</td>\n",
       "      <td>5</td>\n",
       "      <td>1</td>\n",
       "    </tr>\n",
       "  </tbody>\n",
       "</table>\n",
       "</div>"
      ],
      "text/plain": [
       "                                                Review  Rating  Sentiment\n",
       "454  Great place for a drink, nice friendly staff. ...       4          1\n",
       "928  First time visit the other day, amazing!!!! Be...       5          1\n",
       "328  So worth the wait! The crepes are amazing! I a...       5          1\n",
       "782  We arrived a few minutes early for a 7pm reser...       1          0\n",
       "873  Had not been for years.\\n\\nWe went for lunch. ...       2          0\n",
       "307  The Shop is an amazing space! Their attention ...       5          1\n",
       "557  Stayed for one week post Christmas. Unless you...       2          0\n",
       "259  A good place to order from when its late and y...       3          0\n",
       "630  This is one of my favorite bead stores in Nash...       5          1\n",
       "526  After a long hiatus from reviewing I have awak...       5          1"
      ]
     },
     "execution_count": 3,
     "metadata": {},
     "output_type": "execute_result"
    }
   ],
   "source": [
    "data.sample(10)"
   ]
  },
  {
   "cell_type": "markdown",
   "id": "recreational-knife",
   "metadata": {},
   "source": [
    "## Preprocessing"
   ]
  },
  {
   "cell_type": "code",
   "execution_count": 4,
   "id": "bizarre-recognition",
   "metadata": {},
   "outputs": [],
   "source": [
    "# Preprocessing methods\n",
    "\n",
    "def preprocess(review):\n",
    "    cleaned = []\n",
    "    review = re.sub(r'&amp;', '&', review)\n",
    "    review = re.sub(r'\\s+', ' ', review).strip()\n",
    "    for word in review.split():\n",
    "        cleaned.append(lemmatize(word))\n",
    "    return ' '.join(cleaned)\n",
    "\n",
    "def lemmatize(word):\n",
    "    word = tb.Word(word).lemmatize()\n",
    "    word = tb.Word(word).lemmatize(_wordnet.VERB)\n",
    "    word = tb.Word(word).lemmatize(_wordnet.ADJ)\n",
    "    word = tb.Word(word).lemmatize(_wordnet.ADV)\n",
    "    return word"
   ]
  },
  {
   "cell_type": "code",
   "execution_count": 5,
   "id": "handled-municipality",
   "metadata": {
    "scrolled": true
   },
   "outputs": [],
   "source": [
    "# Assign cleaned-up reviews to DataFrame\n",
    "\n",
    "data['Review'] = data.apply(lambda row: preprocess(row['Review']), axis=1)"
   ]
  },
  {
   "cell_type": "markdown",
   "id": "worthy-ranking",
   "metadata": {},
   "source": [
    "## Model Creation and Tuning"
   ]
  },
  {
   "cell_type": "code",
   "execution_count": 6,
   "id": "optional-terrain",
   "metadata": {},
   "outputs": [
    {
     "name": "stderr",
     "output_type": "stream",
     "text": [
      "Some weights of the model checkpoint at distilbert-base-uncased were not used when initializing DistilBertModel: ['vocab_transform.bias', 'vocab_projector.weight', 'vocab_layer_norm.weight', 'vocab_layer_norm.bias', 'vocab_transform.weight', 'vocab_projector.bias']\n",
      "- This IS expected if you are initializing DistilBertModel from the checkpoint of a model trained on another task or with another architecture (e.g. initializing a BertForSequenceClassification model from a BertForPreTraining model).\n",
      "- This IS NOT expected if you are initializing DistilBertModel from the checkpoint of a model that you expect to be exactly identical (initializing a BertForSequenceClassification model from a BertForSequenceClassification model).\n"
     ]
    }
   ],
   "source": [
    "# Instantiate tokenizer and model\n",
    "\n",
    "tokenizer = tns.DistilBertTokenizer.from_pretrained('distilbert-base-uncased')\n",
    "model = tns.DistilBertModel.from_pretrained('distilbert-base-uncased', dropout=0.5)"
   ]
  },
  {
   "cell_type": "code",
   "execution_count": 7,
   "id": "distinct-confirmation",
   "metadata": {},
   "outputs": [],
   "source": [
    "# Encode the reviews into token embeddings\n",
    "\n",
    "tokenized = data['Review'].apply(lambda x: tokenizer.encode(x, add_special_tokens=True, padding='max_length', truncation=True, max_length=512))"
   ]
  },
  {
   "cell_type": "code",
   "execution_count": 8,
   "id": "interesting-polls",
   "metadata": {
    "scrolled": true
   },
   "outputs": [
    {
     "data": {
      "text/plain": [
       "26     [101, 2190, 7273, 2833, 1999, 1996, 2181, 1012...\n",
       "885    [101, 2023, 2022, 2673, 1045, 2215, 1999, 2202...\n",
       "910    [101, 1996, 14380, 9850, 2022, 1037, 2204, 103...\n",
       "748    [101, 2429, 2000, 2026, 3325, 1010, 2045, 2022...\n",
       "973    [101, 4310, 2022, 2200, 2658, 1998, 1010, 2918...\n",
       "Name: Review, dtype: object"
      ]
     },
     "execution_count": 8,
     "metadata": {},
     "output_type": "execute_result"
    }
   ],
   "source": [
    "# Display sample of the tokenized values\n",
    "\n",
    "tokenized.sample(5)"
   ]
  },
  {
   "cell_type": "code",
   "execution_count": 9,
   "id": "excessive-exclusion",
   "metadata": {},
   "outputs": [],
   "source": [
    "max_len = 0\n",
    "for i in tokenized.values:\n",
    "    if len(i) > max_len:\n",
    "        max_len = len(i)\n",
    "\n",
    "padded = np.array([i + [0]*(max_len-len(i)) for i in tokenized.values])\n",
    "\n",
    "attention_mask = np.where(padded != 0, 1, 0)"
   ]
  },
  {
   "cell_type": "markdown",
   "id": "floating-mission",
   "metadata": {},
   "source": [
    "## Model Training"
   ]
  },
  {
   "cell_type": "code",
   "execution_count": 10,
   "id": "japanese-istanbul",
   "metadata": {},
   "outputs": [],
   "source": [
    "# Model training may take a long time\n",
    "\n",
    "input_ids = tc.tensor(tokenized)\n",
    "attention_mask = tc.tensor(attention_mask)\n",
    "\n",
    "with tc.no_grad():\n",
    "    model_output = model(input_ids, attention_mask=attention_mask)"
   ]
  },
  {
   "cell_type": "markdown",
   "id": "solved-brooklyn",
   "metadata": {},
   "source": [
    "## Model Performance Test"
   ]
  },
  {
   "cell_type": "code",
   "execution_count": 11,
   "id": "integrated-parts",
   "metadata": {},
   "outputs": [],
   "source": [
    "# Obtain test sets and labels\n",
    "\n",
    "features = model_output[0][:,0,:].numpy()\n",
    "labels = data['Sentiment']\n",
    "\n",
    "train_features, test_features, train_labels, test_labels = tts(features, labels)"
   ]
  },
  {
   "cell_type": "code",
   "execution_count": 12,
   "id": "fluid-transition",
   "metadata": {
    "scrolled": true
   },
   "outputs": [
    {
     "data": {
      "text/plain": [
       "LogisticRegression(max_iter=500)"
      ]
     },
     "execution_count": 12,
     "metadata": {},
     "output_type": "execute_result"
    }
   ],
   "source": [
    "lr_clf = LogisticRegression(max_iter=500)\n",
    "lr_clf.fit(train_features, train_labels)"
   ]
  },
  {
   "cell_type": "markdown",
   "id": "experimental-suspension",
   "metadata": {},
   "source": [
    "## Model Accuracy Check"
   ]
  },
  {
   "cell_type": "code",
   "execution_count": 13,
   "id": "sexual-carrier",
   "metadata": {},
   "outputs": [
    {
     "data": {
      "text/plain": [
       "0.836"
      ]
     },
     "execution_count": 13,
     "metadata": {},
     "output_type": "execute_result"
    }
   ],
   "source": [
    "# Displays the accuracy of the model\n",
    "\n",
    "lr_clf.score(test_features, test_labels)"
   ]
  },
  {
   "cell_type": "code",
   "execution_count": 14,
   "id": "brief-serial",
   "metadata": {},
   "outputs": [],
   "source": [
    "model.save_pretrained('./sentiment')"
   ]
  }
 ],
 "metadata": {
  "kernelspec": {
   "display_name": "Python 3",
   "language": "python",
   "name": "python3"
  },
  "language_info": {
   "codemirror_mode": {
    "name": "ipython",
    "version": 3
   },
   "file_extension": ".py",
   "mimetype": "text/x-python",
   "name": "python",
   "nbconvert_exporter": "python",
   "pygments_lexer": "ipython3",
   "version": "3.8.10"
  },
  "toc": {
   "base_numbering": 1,
   "nav_menu": {},
   "number_sections": true,
   "sideBar": true,
   "skip_h1_title": false,
   "title_cell": "Table of Contents",
   "title_sidebar": "Contents",
   "toc_cell": false,
   "toc_position": {},
   "toc_section_display": true,
   "toc_window_display": false
  }
 },
 "nbformat": 4,
 "nbformat_minor": 5
}
