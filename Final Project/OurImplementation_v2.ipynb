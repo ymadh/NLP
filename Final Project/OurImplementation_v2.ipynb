{
 "cells": [
  {
   "cell_type": "markdown",
   "id": "internal-investment",
   "metadata": {},
   "source": [
    "# Implementing DistilBERT"
   ]
  },
  {
   "cell_type": "markdown",
   "id": "friendly-improvement",
   "metadata": {},
   "source": [
    "## Import Libraries"
   ]
  },
  {
   "cell_type": "code",
   "execution_count": 1,
   "id": "enormous-leather",
   "metadata": {},
   "outputs": [],
   "source": [
    "import pandas as pd\n",
    "import numpy as np\n",
    "import torch as tc\n",
    "import transformers as tns\n",
    "import tensorflow as tf\n",
    "import textblob as tb\n",
    "import regex as re\n",
    "import nltk\n",
    "import matplotlib.pyplot as plt\n",
    "from sklearn.model_selection import train_test_split as tts\n",
    "from sklearn.linear_model import LogisticRegression\n",
    "\n",
    "_wordnet = nltk.corpus.wordnet"
   ]
  },
  {
   "cell_type": "markdown",
   "id": "authorized-organ",
   "metadata": {},
   "source": [
    "## Read Data"
   ]
  },
  {
   "cell_type": "code",
   "execution_count": 2,
   "id": "utility-direction",
   "metadata": {},
   "outputs": [
    {
     "data": {
      "image/png": "[encoded data removed]",
      "text/plain": [
       "<Figure size 432x288 with 1 Axes>"
      ]
     },
     "metadata": {
      "needs_background": "light"
     },
     "output_type": "display_data"
    }
   ],
   "source": [
    "data = pd.read_json('Data/review_1000.json', lines=True)\n",
    "data['Sentiment'] = data['stars'].apply(lambda score: \"Positive\" if score > 3 else \"Negative\")\n",
    "data.rename(columns={'text':'Review', 'stars':'Rating'}, inplace=True)\n",
    "data = data[['Review', 'Rating', 'Sentiment']]\n",
    "\n",
    "plt.bar(data.Sentiment.unique(), data.Sentiment.value_counts(), color = ['red', 'green'])\n",
    "plt.title('Sentiment of Review Dataset')\n",
    "plt.xlabel('Sentiment')\n",
    "plt.ylabel('Review Count')\n",
    "\n",
    "data['Sentiment'] = data['Sentiment'].apply(lambda score: 1 if score == 'Positive' else 0)"
   ]
  },
  {
   "cell_type": "code",
   "execution_count": 3,
   "id": "grand-joint",
   "metadata": {
    "scrolled": true
   },
   "outputs": [
    {
     "data": {
      "text/html": [
       "<div>\n",
       "<style scoped>\n",
       "    .dataframe tbody tr th:only-of-type {\n",
       "        vertical-align: middle;\n",
       "    }\n",
       "\n",
       "    .dataframe tbody tr th {\n",
       "        vertical-align: top;\n",
       "    }\n",
       "\n",
       "    .dataframe thead th {\n",
       "        text-align: right;\n",
       "    }\n",
       "</style>\n",
       "<table border=\"1\" class=\"dataframe\">\n",
       "  <thead>\n",
       "    <tr style=\"text-align: right;\">\n",
       "      <th></th>\n",
       "      <th>Review</th>\n",
       "      <th>Rating</th>\n",
       "      <th>Sentiment</th>\n",
       "    </tr>\n",
       "  </thead>\n",
       "  <tbody>\n",
       "    <tr>\n",
       "      <th>379</th>\n",
       "      <td>I had the worst experience of my life and it's...</td>\n",
       "      <td>1</td>\n",
       "      <td>0</td>\n",
       "    </tr>\n",
       "    <tr>\n",
       "      <th>112</th>\n",
       "      <td>Westfall replaced our roof in April. We could ...</td>\n",
       "      <td>5</td>\n",
       "      <td>1</td>\n",
       "    </tr>\n",
       "    <tr>\n",
       "      <th>540</th>\n",
       "      <td>Drum-roll please! Review #100 coming right up!...</td>\n",
       "      <td>4</td>\n",
       "      <td>1</td>\n",
       "    </tr>\n",
       "    <tr>\n",
       "      <th>374</th>\n",
       "      <td>What a disappointment. This place was not good...</td>\n",
       "      <td>1</td>\n",
       "      <td>0</td>\n",
       "    </tr>\n",
       "    <tr>\n",
       "      <th>386</th>\n",
       "      <td>I stopped in because I was hungry for some sna...</td>\n",
       "      <td>4</td>\n",
       "      <td>1</td>\n",
       "    </tr>\n",
       "    <tr>\n",
       "      <th>260</th>\n",
       "      <td>You think Value City, you think cheap value, r...</td>\n",
       "      <td>1</td>\n",
       "      <td>0</td>\n",
       "    </tr>\n",
       "    <tr>\n",
       "      <th>174</th>\n",
       "      <td>This small little donut bakery is located in o...</td>\n",
       "      <td>5</td>\n",
       "      <td>1</td>\n",
       "    </tr>\n",
       "    <tr>\n",
       "      <th>559</th>\n",
       "      <td>We love this movie theater/ bar/ restaurant. G...</td>\n",
       "      <td>4</td>\n",
       "      <td>1</td>\n",
       "    </tr>\n",
       "    <tr>\n",
       "      <th>656</th>\n",
       "      <td>We had a mixed experience at Mr. B's.  We star...</td>\n",
       "      <td>3</td>\n",
       "      <td>0</td>\n",
       "    </tr>\n",
       "    <tr>\n",
       "      <th>225</th>\n",
       "      <td>Love the sweet spiral plain pies at Franzones....</td>\n",
       "      <td>4</td>\n",
       "      <td>1</td>\n",
       "    </tr>\n",
       "  </tbody>\n",
       "</table>\n",
       "</div>"
      ],
      "text/plain": [
       "                                                Review  Rating  Sentiment\n",
       "379  I had the worst experience of my life and it's...       1          0\n",
       "112  Westfall replaced our roof in April. We could ...       5          1\n",
       "540  Drum-roll please! Review #100 coming right up!...       4          1\n",
       "374  What a disappointment. This place was not good...       1          0\n",
       "386  I stopped in because I was hungry for some sna...       4          1\n",
       "260  You think Value City, you think cheap value, r...       1          0\n",
       "174  This small little donut bakery is located in o...       5          1\n",
       "559  We love this movie theater/ bar/ restaurant. G...       4          1\n",
       "656  We had a mixed experience at Mr. B's.  We star...       3          0\n",
       "225  Love the sweet spiral plain pies at Franzones....       4          1"
      ]
     },
     "execution_count": 3,
     "metadata": {},
     "output_type": "execute_result"
    }
   ],
   "source": [
    "data.sample(10)"
   ]
  },
  {
   "cell_type": "markdown",
   "id": "reliable-pilot",
   "metadata": {},
   "source": [
    "## Preprocessing"
   ]
  },
  {
   "cell_type": "code",
   "execution_count": 4,
   "id": "improved-image",
   "metadata": {},
   "outputs": [],
   "source": [
    "def preprocess(review):\n",
    "    cleaned = []\n",
    "    review = re.sub(r'&amp;', '&', review)\n",
    "    review = re.sub(r'\\s+', ' ', review).strip()\n",
    "    for word in review.split():\n",
    "        cleaned.append(lemmatize(word))\n",
    "    return ' '.join(cleaned)\n",
    "\n",
    "def lemmatize(word):\n",
    "    word = tb.Word(word).lemmatize()\n",
    "    word = tb.Word(word).lemmatize(_wordnet.VERB)\n",
    "    word = tb.Word(word).lemmatize(_wordnet.ADJ)\n",
    "    word = tb.Word(word).lemmatize(_wordnet.ADV)\n",
    "    return word"
   ]
  },
  {
   "cell_type": "code",
   "execution_count": 5,
   "id": "assigned-omega",
   "metadata": {
    "scrolled": true
   },
   "outputs": [],
   "source": [
    "data['Review'] = data.apply(lambda row: preprocess(row['Review']), axis=1)"
   ]
  },
  {
   "cell_type": "markdown",
   "id": "informed-superintendent",
   "metadata": {},
   "source": [
    "## Model Creation and Tuning"
   ]
  },
  {
   "cell_type": "code",
   "execution_count": 6,
   "id": "distributed-rapid",
   "metadata": {},
   "outputs": [
    {
     "name": "stderr",
     "output_type": "stream",
     "text": [
      "Some weights of the model checkpoint at distilbert-base-uncased were not used when initializing DistilBertModel: ['vocab_transform.bias', 'vocab_layer_norm.weight', 'vocab_layer_norm.bias', 'vocab_projector.bias', 'vocab_projector.weight', 'vocab_transform.weight']\n",
      "- This IS expected if you are initializing DistilBertModel from the checkpoint of a model trained on another task or with another architecture (e.g. initializing a BertForSequenceClassification model from a BertForPreTraining model).\n",
      "- This IS NOT expected if you are initializing DistilBertModel from the checkpoint of a model that you expect to be exactly identical (initializing a BertForSequenceClassification model from a BertForSequenceClassification model).\n"
     ]
    }
   ],
   "source": [
    "tokenizer = tns.DistilBertTokenizer.from_pretrained('distilbert-base-uncased')\n",
    "model = tns.DistilBertModel.from_pretrained('distilbert-base-uncased', dropout=0.2)"
   ]
  },
  {
   "cell_type": "code",
   "execution_count": 7,
   "id": "specific-bottom",
   "metadata": {},
   "outputs": [],
   "source": [
    "tokenized = data['Review'].apply(lambda x: tokenizer.encode(x, add_special_tokens=True, padding='max_length', truncation=True, max_length=512))"
   ]
  },
  {
   "cell_type": "code",
   "execution_count": 8,
   "id": "empty-sheet",
   "metadata": {
    "scrolled": true
   },
   "outputs": [
    {
     "data": {
      "text/plain": [
       "0      [101, 2065, 2017, 5630, 2000, 4521, 2182, 1010...\n",
       "1      [101, 1045, 1005, 2310, 2202, 1037, 2843, 1997...\n",
       "2      [101, 2155, 15736, 1012, 2018, 1996, 28305, 10...\n",
       "3      [101, 10166, 999, 9805, 18879, 1010, 2367, 101...\n",
       "4      [101, 10140, 4592, 1998, 3954, 1006, 1029, 100...\n",
       "                             ...                        \n",
       "995    [101, 1045, 3728, 10885, 1999, 2358, 1012, 806...\n",
       "996    [101, 2200, 4658, 3347, 22476, 2000, 1996, 365...\n",
       "997    [101, 2023, 3309, 2022, 1037, 17070, 1999, 199...\n",
       "998    [101, 2001, 2202, 2182, 2651, 2011, 1037, 1359...\n",
       "999    [101, 2026, 2767, 1998, 1045, 2035, 2131, 2028...\n",
       "Name: Review, Length: 1000, dtype: object"
      ]
     },
     "execution_count": 8,
     "metadata": {},
     "output_type": "execute_result"
    }
   ],
   "source": [
    "tokenized"
   ]
  },
  {
   "cell_type": "code",
   "execution_count": 9,
   "id": "surgical-recipe",
   "metadata": {},
   "outputs": [
    {
     "name": "stdout",
     "output_type": "stream",
     "text": [
      "512\n"
     ]
    }
   ],
   "source": [
    "max_len = 0\n",
    "for i in tokenized.values:\n",
    "    if len(i) > max_len:\n",
    "        max_len = len(i)\n",
    "\n",
    "padded = np.array([i + [0]*(max_len-len(i)) for i in tokenized.values])\n",
    "\n",
    "print(max_len)"
   ]
  },
  {
   "cell_type": "code",
   "execution_count": 10,
   "id": "floppy-information",
   "metadata": {},
   "outputs": [
    {
     "data": {
      "text/plain": [
       "(1000, 512)"
      ]
     },
     "execution_count": 10,
     "metadata": {},
     "output_type": "execute_result"
    }
   ],
   "source": [
    "np.array(padded).shape"
   ]
  },
  {
   "cell_type": "code",
   "execution_count": 11,
   "id": "shared-syracuse",
   "metadata": {},
   "outputs": [
    {
     "data": {
      "text/plain": [
       "(1000, 512)"
      ]
     },
     "execution_count": 11,
     "metadata": {},
     "output_type": "execute_result"
    }
   ],
   "source": [
    "attention_mask = np.where(padded != 0, 1, 0)\n",
    "attention_mask.shape"
   ]
  },
  {
   "cell_type": "markdown",
   "id": "outstanding-reality",
   "metadata": {},
   "source": [
    "## Model Training"
   ]
  },
  {
   "cell_type": "code",
   "execution_count": 12,
   "id": "ahead-mississippi",
   "metadata": {},
   "outputs": [],
   "source": [
    "input_ids = tc.tensor(tokenized)\n",
    "attention_mask = tc.tensor(attention_mask)\n",
    "\n",
    "with tc.no_grad():\n",
    "    model_output = model(input_ids, attention_mask=attention_mask)"
   ]
  },
  {
   "cell_type": "markdown",
   "id": "forward-integration",
   "metadata": {},
   "source": [
    "## Model Performance Test"
   ]
  },
  {
   "cell_type": "code",
   "execution_count": 13,
   "id": "prepared-instrument",
   "metadata": {},
   "outputs": [],
   "source": [
    "features = model_output[0][:,0,:].numpy()\n",
    "labels = data['Sentiment']\n",
    "\n",
    "train_features, test_features, train_labels, test_labels = tts(features, labels)"
   ]
  },
  {
   "cell_type": "code",
   "execution_count": 14,
   "id": "pacific-sacrifice",
   "metadata": {
    "scrolled": true
   },
   "outputs": [
    {
     "name": "stderr",
     "output_type": "stream",
     "text": [
      "C:\\Users\\cdbul\\AppData\\Local\\Packages\\PythonSoftwareFoundation.Python.3.8_qbz5n2kfra8p0\\LocalCache\\local-packages\\Python38\\site-packages\\sklearn\\linear_model\\_logistic.py:763: ConvergenceWarning: lbfgs failed to converge (status=1):\n",
      "STOP: TOTAL NO. of ITERATIONS REACHED LIMIT.\n",
      "\n",
      "Increase the number of iterations (max_iter) or scale the data as shown in:\n",
      "    https://scikit-learn.org/stable/modules/preprocessing.html\n",
      "Please also refer to the documentation for alternative solver options:\n",
      "    https://scikit-learn.org/stable/modules/linear_model.html#logistic-regression\n",
      "  n_iter_i = _check_optimize_result(\n"
     ]
    },
    {
     "data": {
      "text/plain": [
       "LogisticRegression()"
      ]
     },
     "execution_count": 14,
     "metadata": {},
     "output_type": "execute_result"
    }
   ],
   "source": [
    "lr_clf = LogisticRegression()\n",
    "lr_clf.fit(train_features, train_labels)"
   ]
  },
  {
   "cell_type": "markdown",
   "id": "under-request",
   "metadata": {},
   "source": [
    "## Model Accuracy Check"
   ]
  },
  {
   "cell_type": "code",
   "execution_count": 15,
   "id": "minute-charm",
   "metadata": {},
   "outputs": [
    {
     "data": {
      "text/plain": [
       "0.88"
      ]
     },
     "execution_count": 15,
     "metadata": {},
     "output_type": "execute_result"
    }
   ],
   "source": [
    "lr_clf.score(test_features, test_labels)"
   ]
  },
  {
   "cell_type": "code",
   "execution_count": 16,
   "id": "acknowledged-radius",
   "metadata": {},
   "outputs": [],
   "source": [
    "model.save_pretrained('./sentiment')"
   ]
  }
 ],
 "metadata": {
  "kernelspec": {
   "display_name": "Python 3",
   "language": "python",
   "name": "python3"
  },
  "language_info": {
   "codemirror_mode": {
    "name": "ipython",
    "version": 3
   },
   "file_extension": ".py",
   "mimetype": "text/x-python",
   "name": "python",
   "nbconvert_exporter": "python",
   "pygments_lexer": "ipython3",
   "version": "3.8.10"
  },
  "toc": {
   "base_numbering": 1,
   "nav_menu": {},
   "number_sections": true,
   "sideBar": true,
   "skip_h1_title": false,
   "title_cell": "Table of Contents",
   "title_sidebar": "Contents",
   "toc_cell": false,
   "toc_position": {},
   "toc_section_display": true,
   "toc_window_display": false
  }
 },
 "nbformat": 4,
 "nbformat_minor": 5
}
