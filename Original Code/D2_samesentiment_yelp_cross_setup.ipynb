{
 "cells": [
  {
   "cell_type": "markdown",
   "metadata": {},
   "source": [
    "# SameSentiment Yelp - CrossEval - Data Setup"
   ]
  },
  {
   "cell_type": "code",
   "execution_count": 1,
   "metadata": {},
   "outputs": [],
   "source": [
    "import pickle\n",
    "from pathlib import Path\n",
    "\n",
    "import pandas as pd\n",
    "from tqdm import tqdm\n",
    "\n",
    "from utils import Timer\n",
    "\n",
    "tqdm.pandas()"
   ]
  },
  {
   "cell_type": "code",
   "execution_count": 2,
   "metadata": {},
   "outputs": [],
   "source": [
    "data_yelp_path = Path(\"data_raw/sentiment/yelp/\")\n",
    "\n",
    "# local - output path (base) for sentiment review yelp pairs\n",
    "data_yelp_b_tdt_path = Path(\"data/sentiment/yelp-pair-b/\")\n",
    "# local - output path for simple sentiment reviews yelp\n",
    "data_yelp_tdt_sentiment_5_path = Path(\"data/sentiment/yelp-sentiment-5/\")\n",
    "data_yelp_tdt_sentiment_b_path = Path(\"data/sentiment/yelp-sentiment-b/\")"
   ]
  },
  {
   "cell_type": "markdown",
   "metadata": {},
   "source": [
    "---"
   ]
  },
  {
   "cell_type": "code",
   "execution_count": 3,
   "metadata": {},
   "outputs": [],
   "source": [
    "dn_yelp_cached = data_yelp_path / \"cached\""
   ]
  },
  {
   "cell_type": "code",
   "execution_count": 4,
   "metadata": {},
   "outputs": [],
   "source": [
    "#  #### Load categories & topics\n",
    "from data_prep import load_reviews, load_topics\n",
    "\n",
    "# ##### Filter categories\n",
    "from data_prep import filter_min_cat_combis, make_map_cats, make_cat_combis\n",
    "\n",
    "# ##### Filter reviews\n",
    "from data_prep import filter_min_review_freq, filter_both_good_bad\n",
    "\n",
    "# ##### Filter businesses\n",
    "from data_prep import filter_by_businesses, filter_by_businesses_not_same\n",
    "\n",
    "# #### Load category tree\n",
    "from data_prep import load_category_tree\n",
    "from data_prep import get_root_category_items, get_children_category_item_list\n",
    "from data_prep import get_businesses_in_category, get_businesses_in_category_branch\n",
    "\n",
    "\n",
    "# #### Cache root category reviews in dataframes\n",
    "from data_prep import cache_root_category_businesses_df, load_cached_root_category_businesses_df\n",
    "\n",
    "\n",
    "# #### Positive + negative same-sentiment pairs\n",
    "from data_prep import make_pairs_good_bad\n",
    "\n",
    "# #### Not same-sentiment pairs (combinations positive + negative)\n",
    "from data_prep import make_pairs_negative\n",
    "\n",
    "# #### Dataframe for training etc.\n",
    "from data_prep import make_or_load_pairs\n",
    "\n",
    "\n",
    "# #### Make train/dev/test splits\n",
    "from data_prep import split_df, write_pair_df_tsv, write_pair_tdt_tsv\n",
    "\n",
    "\n",
    "# ### Make cross eval splits\n",
    "from data_prep import build_category_business_lookup\n",
    "from data_prep import filter_category_business_lookup_no_overlap\n",
    "\n",
    "# #### Filter non-overlapping from pairs\n",
    "from data_prep import df_add_business_id\n",
    "from data_prep import filter_overlapping_businesses\n",
    "\n",
    "# #### Manually split into N shards for cross-validation\n",
    "from data_prep import make_group_split\n",
    "from data_prep import make_cross_eval_dfs"
   ]
  },
  {
   "cell_type": "markdown",
   "metadata": {},
   "source": [
    "---"
   ]
  },
  {
   "cell_type": "code",
   "execution_count": 5,
   "metadata": {},
   "outputs": [],
   "source": [
    "# N positive + N negative\n",
    "# --> 2N pos+neg (not same-sentiment)\n",
    "num_pairs_per_class = 2\n",
    "\n",
    "#: number of negative same-sentiment samples same as positive same-sentiment samples\n",
    "num_pairs_negative = 2 * num_pairs_per_class\n",
    "\n",
    "#: whether for a single side (good or bad) there can be multiple occurrences of the same review\n",
    "#: may need to check afterwared that not by chance same pairing happens ...\n",
    "repeatable_on_side = False"
   ]
  },
  {
   "cell_type": "code",
   "execution_count": 6,
   "metadata": {},
   "outputs": [],
   "source": [
    "try:\n",
    "    from utils import init_random\n",
    "\n",
    "    init_random()\n",
    "except ImportError:\n",
    "    pass\n",
    "\n",
    "try:\n",
    "    from utils_siamese import set_seed\n",
    "\n",
    "    set_seed(42)\n",
    "except ImportError:\n",
    "    pass    "
   ]
  },
  {
   "cell_type": "markdown",
   "metadata": {},
   "source": [
    "---"
   ]
  },
  {
   "cell_type": "markdown",
   "metadata": {},
   "source": [
    "## Run"
   ]
  },
  {
   "cell_type": "markdown",
   "metadata": {},
   "source": [
    "#### Load reviews"
   ]
  },
  {
   "cell_type": "code",
   "execution_count": 7,
   "metadata": {},
   "outputs": [
    {
     "name": "stderr",
     "output_type": "stream",
     "text": [
      "3001it [00:00, 91140.91it/s]\n"
     ]
    }
   ],
   "source": [
    "fn_yelp_reviews = data_yelp_path / \"review.json\"\n",
    "df = load_reviews(fn_yelp_reviews)"
   ]
  },
  {
   "cell_type": "markdown",
   "metadata": {},
   "source": [
    "#### Load categories for businesses\n",
    "\n",
    "- business (id) with list of topics/categories\n",
    "- lookups (business -> categories, category -> businesses)\n",
    "- list of combinations (with amount)"
   ]
  },
  {
   "cell_type": "code",
   "execution_count": 8,
   "metadata": {},
   "outputs": [
    {
     "name": "stderr",
     "output_type": "stream",
     "text": [
      "150346it [00:02, 67646.90it/s]\n",
      "100%|██████████| 150243/150243 [00:00<00:00, 517704.83it/s]\n",
      "100%|██████████| 150243/150243 [00:00<00:00, 422970.00it/s]\n"
     ]
    }
   ],
   "source": [
    "fn_yelp_topics = data_yelp_path / \"business.json\"\n",
    "bids_not_cats = set()\n",
    "inv_bid_cats = load_topics(fn_yelp_topics, bids_not_cats=bids_not_cats)\n",
    "\n",
    "inv_cat_bids = make_map_cats(inv_bid_cats)\n",
    "\n",
    "inv_cat_combis = make_cat_combis(inv_bid_cats)"
   ]
  },
  {
   "cell_type": "markdown",
   "metadata": {},
   "source": [
    "#### Load category tree\n",
    "\n",
    "- hierarchy of categories"
   ]
  },
  {
   "cell_type": "code",
   "execution_count": 9,
   "metadata": {},
   "outputs": [],
   "source": [
    "fn_yelp_catgory_tree = data_yelp_path / \"all_category_list.json\"\n",
    "map_categories, map_cat_name2id, lst_root_categories = load_category_tree(fn_yelp_catgory_tree)"
   ]
  },
  {
   "cell_type": "markdown",
   "metadata": {},
   "source": [
    "#### Pre-Cache all root category businesses (reviews)"
   ]
  },
  {
   "cell_type": "code",
   "execution_count": 10,
   "metadata": {},
   "outputs": [],
   "source": [
    "cache_root_category_businesses_df(df, inv_cat_bids, map_categories, map_cat_name2id)"
   ]
  },
  {
   "cell_type": "markdown",
   "metadata": {},
   "source": [
    "---"
   ]
  },
  {
   "cell_type": "markdown",
   "metadata": {},
   "source": [
    "## Write out training data"
   ]
  },
  {
   "cell_type": "markdown",
   "metadata": {},
   "source": [
    "### Split Test-Data"
   ]
  },
  {
   "cell_type": "code",
   "execution_count": 11,
   "metadata": {},
   "outputs": [],
   "source": [
    "fn_yelp_df = data_yelp_path / \"df_traindev4_typed.p\"\n",
    "\n",
    "with open(fn_yelp_df, \"rb\") as fp:\n",
    "    traindev_df = pickle.load(fp)"
   ]
  },
  {
   "cell_type": "code",
   "execution_count": 12,
   "metadata": {},
   "outputs": [],
   "source": [
    "fn_yelp_df = data_yelp_path / \"df_traindev_test.p\""
   ]
  },
  {
   "cell_type": "raw",
   "metadata": {},
   "source": [
    "# store\n",
    "traindev_df, test_df = split_df(traindev_df, ratio=0.1, do_shuffle=True, random_state=42, name_train=\"traindev\", name_dev=\"test\")\n",
    "\n",
    "with open(fn_yelp_df, \"wb\") as fp:\n",
    "    pickle.dump(traindev_df, fp, protocol=pickle.HIGHEST_PROTOCOL)\n",
    "    pickle.dump(test_df, fp, protocol=pickle.HIGHEST_PROTOCOL)"
   ]
  },
  {
   "cell_type": "code",
   "execution_count": 13,
   "metadata": {},
   "outputs": [],
   "source": [
    "with open(fn_yelp_df, \"rb\") as fp:\n",
    "    traindev_df = pickle.load(fp)\n",
    "    test_df = pickle.load(fp)"
   ]
  },
  {
   "cell_type": "markdown",
   "metadata": {},
   "source": [
    "---"
   ]
  },
  {
   "cell_type": "raw",
   "metadata": {},
   "source": [
    "root_path = data_yelp_b_tdt_path\n",
    "\n",
    "write_pair_tdt_tsv(root_path, traindev_df, split_test=0.1, split_dev=0.3)"
   ]
  },
  {
   "cell_type": "markdown",
   "metadata": {},
   "source": [
    "### Make cross eval splits"
   ]
  },
  {
   "cell_type": "code",
   "execution_count": 14,
   "metadata": {},
   "outputs": [],
   "source": [
    "fn_yelp_df = data_yelp_path / \"df_traindev_test.p\"\n",
    "\n",
    "with open(fn_yelp_df, \"rb\") as fp:\n",
    "    traindev_df = pickle.load(fp)\n",
    "    test_df = pickle.load(fp)"
   ]
  },
  {
   "cell_type": "code",
   "execution_count": 15,
   "metadata": {},
   "outputs": [],
   "source": [
    "lookup_rootcat_bid = build_category_business_lookup(map_categories, inv_cat_bids, map_cat_name2id)\n",
    "lookup_rootcat_bid_no_overlap = filter_category_business_lookup_no_overlap(lookup_rootcat_bid)"
   ]
  },
  {
   "cell_type": "code",
   "execution_count": 16,
   "metadata": {
    "jupyter": {
     "outputs_hidden": true
    },
    "tags": []
   },
   "outputs": [
    {
     "name": "stdout",
     "output_type": "stream",
     "text": [
      "Number businesses all (overlapping): 221837\n",
      "Number businesses all (no overlap): 94395\n"
     ]
    },
    {
     "data": {
      "text/html": [
       "<div>\n",
       "<style scoped>\n",
       "    .dataframe tbody tr th:only-of-type {\n",
       "        vertical-align: middle;\n",
       "    }\n",
       "\n",
       "    .dataframe tbody tr th {\n",
       "        vertical-align: top;\n",
       "    }\n",
       "\n",
       "    .dataframe thead th {\n",
       "        text-align: right;\n",
       "    }\n",
       "</style>\n",
       "<table border=\"1\" class=\"dataframe\">\n",
       "  <thead>\n",
       "    <tr style=\"text-align: right;\">\n",
       "      <th></th>\n",
       "      <th>category</th>\n",
       "      <th>alias</th>\n",
       "      <th>businesses</th>\n",
       "      <th>business (no overlap)</th>\n",
       "    </tr>\n",
       "  </thead>\n",
       "  <tbody>\n",
       "    <tr>\n",
       "      <th>0</th>\n",
       "      <td>Active Life</td>\n",
       "      <td>active</td>\n",
       "      <td>7687</td>\n",
       "      <td>3391</td>\n",
       "    </tr>\n",
       "    <tr>\n",
       "      <th>1</th>\n",
       "      <td>Arts &amp; Entertainment</td>\n",
       "      <td>arts</td>\n",
       "      <td>5434</td>\n",
       "      <td>718</td>\n",
       "    </tr>\n",
       "    <tr>\n",
       "      <th>2</th>\n",
       "      <td>Automotive</td>\n",
       "      <td>auto</td>\n",
       "      <td>10773</td>\n",
       "      <td>8187</td>\n",
       "    </tr>\n",
       "    <tr>\n",
       "      <th>3</th>\n",
       "      <td>Beauty &amp; Spas</td>\n",
       "      <td>beautysvc</td>\n",
       "      <td>14292</td>\n",
       "      <td>9702</td>\n",
       "    </tr>\n",
       "    <tr>\n",
       "      <th>4</th>\n",
       "      <td>Bicycles</td>\n",
       "      <td>bicycles</td>\n",
       "      <td>5</td>\n",
       "      <td>0</td>\n",
       "    </tr>\n",
       "    <tr>\n",
       "      <th>5</th>\n",
       "      <td>Education</td>\n",
       "      <td>education</td>\n",
       "      <td>1936</td>\n",
       "      <td>347</td>\n",
       "    </tr>\n",
       "    <tr>\n",
       "      <th>6</th>\n",
       "      <td>Event Planning &amp; Services</td>\n",
       "      <td>eventservices</td>\n",
       "      <td>9895</td>\n",
       "      <td>914</td>\n",
       "    </tr>\n",
       "    <tr>\n",
       "      <th>7</th>\n",
       "      <td>Financial Services</td>\n",
       "      <td>financialservices</td>\n",
       "      <td>1487</td>\n",
       "      <td>732</td>\n",
       "    </tr>\n",
       "    <tr>\n",
       "      <th>8</th>\n",
       "      <td>Food</td>\n",
       "      <td>food</td>\n",
       "      <td>27781</td>\n",
       "      <td>7733</td>\n",
       "    </tr>\n",
       "    <tr>\n",
       "      <th>9</th>\n",
       "      <td>Health &amp; Medical</td>\n",
       "      <td>health</td>\n",
       "      <td>11890</td>\n",
       "      <td>6839</td>\n",
       "    </tr>\n",
       "    <tr>\n",
       "      <th>10</th>\n",
       "      <td>Home Services</td>\n",
       "      <td>homeservices</td>\n",
       "      <td>14368</td>\n",
       "      <td>7396</td>\n",
       "    </tr>\n",
       "    <tr>\n",
       "      <th>11</th>\n",
       "      <td>Hotels &amp; Travel</td>\n",
       "      <td>hotelstravel</td>\n",
       "      <td>5857</td>\n",
       "      <td>1381</td>\n",
       "    </tr>\n",
       "    <tr>\n",
       "      <th>12</th>\n",
       "      <td>Local Flavor</td>\n",
       "      <td>localflavor</td>\n",
       "      <td>1604</td>\n",
       "      <td>81</td>\n",
       "    </tr>\n",
       "    <tr>\n",
       "      <th>13</th>\n",
       "      <td>Local Services</td>\n",
       "      <td>localservices</td>\n",
       "      <td>11198</td>\n",
       "      <td>3167</td>\n",
       "    </tr>\n",
       "    <tr>\n",
       "      <th>14</th>\n",
       "      <td>Mass Media</td>\n",
       "      <td>massmedia</td>\n",
       "      <td>156</td>\n",
       "      <td>91</td>\n",
       "    </tr>\n",
       "    <tr>\n",
       "      <th>15</th>\n",
       "      <td>Nightlife</td>\n",
       "      <td>nightlife</td>\n",
       "      <td>12281</td>\n",
       "      <td>1706</td>\n",
       "    </tr>\n",
       "    <tr>\n",
       "      <th>16</th>\n",
       "      <td>Pets</td>\n",
       "      <td>pets</td>\n",
       "      <td>3758</td>\n",
       "      <td>3184</td>\n",
       "    </tr>\n",
       "    <tr>\n",
       "      <th>17</th>\n",
       "      <td>Professional Services</td>\n",
       "      <td>professional</td>\n",
       "      <td>3270</td>\n",
       "      <td>468</td>\n",
       "    </tr>\n",
       "    <tr>\n",
       "      <th>18</th>\n",
       "      <td>Public Services &amp; Government</td>\n",
       "      <td>publicservicesgovt</td>\n",
       "      <td>1216</td>\n",
       "      <td>517</td>\n",
       "    </tr>\n",
       "    <tr>\n",
       "      <th>19</th>\n",
       "      <td>Religious Organizations</td>\n",
       "      <td>religiousorgs</td>\n",
       "      <td>286</td>\n",
       "      <td>174</td>\n",
       "    </tr>\n",
       "    <tr>\n",
       "      <th>20</th>\n",
       "      <td>Restaurants</td>\n",
       "      <td>restaurants</td>\n",
       "      <td>52268</td>\n",
       "      <td>27990</td>\n",
       "    </tr>\n",
       "    <tr>\n",
       "      <th>21</th>\n",
       "      <td>Shopping</td>\n",
       "      <td>shopping</td>\n",
       "      <td>24395</td>\n",
       "      <td>9677</td>\n",
       "    </tr>\n",
       "  </tbody>\n",
       "</table>\n",
       "</div>"
      ],
      "text/plain": [
       "                        category               alias  businesses  \\\n",
       "0                    Active Life              active        7687   \n",
       "1           Arts & Entertainment                arts        5434   \n",
       "2                     Automotive                auto       10773   \n",
       "3                  Beauty & Spas           beautysvc       14292   \n",
       "4                       Bicycles            bicycles           5   \n",
       "5                      Education           education        1936   \n",
       "6      Event Planning & Services       eventservices        9895   \n",
       "7             Financial Services   financialservices        1487   \n",
       "8                           Food                food       27781   \n",
       "9               Health & Medical              health       11890   \n",
       "10                 Home Services        homeservices       14368   \n",
       "11               Hotels & Travel        hotelstravel        5857   \n",
       "12                  Local Flavor         localflavor        1604   \n",
       "13                Local Services       localservices       11198   \n",
       "14                    Mass Media           massmedia         156   \n",
       "15                     Nightlife           nightlife       12281   \n",
       "16                          Pets                pets        3758   \n",
       "17         Professional Services        professional        3270   \n",
       "18  Public Services & Government  publicservicesgovt        1216   \n",
       "19       Religious Organizations       religiousorgs         286   \n",
       "20                   Restaurants         restaurants       52268   \n",
       "21                      Shopping            shopping       24395   \n",
       "\n",
       "    business (no overlap)  \n",
       "0                    3391  \n",
       "1                     718  \n",
       "2                    8187  \n",
       "3                    9702  \n",
       "4                       0  \n",
       "5                     347  \n",
       "6                     914  \n",
       "7                     732  \n",
       "8                    7733  \n",
       "9                    6839  \n",
       "10                   7396  \n",
       "11                   1381  \n",
       "12                     81  \n",
       "13                   3167  \n",
       "14                     91  \n",
       "15                   1706  \n",
       "16                   3184  \n",
       "17                    468  \n",
       "18                    517  \n",
       "19                    174  \n",
       "20                  27990  \n",
       "21                   9677  "
      ]
     },
     "execution_count": 16,
     "metadata": {},
     "output_type": "execute_result"
    }
   ],
   "source": [
    "print(f\"Number businesses all (overlapping): {sum(len(bs) for bs in lookup_rootcat_bid.values())}\")\n",
    "print(f\"Number businesses all (no overlap): {sum(len(bs) for bs in lookup_rootcat_bid_no_overlap.values())}\")\n",
    "\n",
    "pd.DataFrame([\n",
    "    {\n",
    "        # \"category\": f\"{title}[{alias}]\",\n",
    "        \"category\": title,\n",
    "        \"alias\": alias,\n",
    "        \"businesses\": len(businesses),\n",
    "        \"business (no overlap)\": len(business_no_overlap)\n",
    "    }\n",
    "    for ((title, alias), businesses), business_no_overlap in zip(lookup_rootcat_bid.items(), lookup_rootcat_bid_no_overlap.values())    \n",
    "])"
   ]
  },
  {
   "cell_type": "markdown",
   "metadata": {},
   "source": [
    "---"
   ]
  },
  {
   "cell_type": "markdown",
   "metadata": {},
   "source": [
    "#### Filter non-overlapping from pairs"
   ]
  },
  {
   "cell_type": "code",
   "execution_count": 17,
   "metadata": {},
   "outputs": [
    {
     "name": "stderr",
     "output_type": "stream",
     "text": [
      "/opt/tljh/user/lib/python3.9/site-packages/tqdm/std.py:775: RuntimeWarning: divide by zero encountered in long_scalars\n",
      "  total = df.size // df.shape[axis]\n",
      "1it [00:00, 2870.84it/s]\n"
     ]
    },
    {
     "ename": "AttributeError",
     "evalue": "'DataFrame' object has no attribute 'business_id'",
     "output_type": "error",
     "traceback": [
      "\u001b[0;31m---------------------------------------------------------------------------\u001b[0m",
      "\u001b[0;31mAttributeError\u001b[0m                            Traceback (most recent call last)",
      "Input \u001b[0;32mIn [17]\u001b[0m, in \u001b[0;36m<cell line: 2>\u001b[0;34m()\u001b[0m\n\u001b[1;32m      1\u001b[0m traindev_df \u001b[38;5;241m=\u001b[39m df_add_business_id(traindev_df)\n\u001b[0;32m----> 2\u001b[0m traindev_df \u001b[38;5;241m=\u001b[39m \u001b[43mfilter_overlapping_businesses\u001b[49m\u001b[43m(\u001b[49m\u001b[43mtraindev_df\u001b[49m\u001b[43m,\u001b[49m\u001b[43m \u001b[49m\u001b[43mlookup_rootcat_bid_no_overlap\u001b[49m\u001b[43m)\u001b[49m\n",
      "File \u001b[0;32m~/NLP/shared/data_prep_sentiment_yelp.py:859\u001b[0m, in \u001b[0;36mfilter_overlapping_businesses\u001b[0;34m(traindev_df, lookup_rootcat_bid_no_overlap)\u001b[0m\n\u001b[1;32m    856\u001b[0m \u001b[38;5;28;01mfor\u001b[39;00m businesses \u001b[38;5;129;01min\u001b[39;00m lookup_rootcat_bid_no_overlap\u001b[38;5;241m.\u001b[39mvalues():\n\u001b[1;32m    857\u001b[0m     all_business_ids_no_overlap \u001b[38;5;241m|\u001b[39m\u001b[38;5;241m=\u001b[39m businesses\n\u001b[0;32m--> 859\u001b[0m traindev_df \u001b[38;5;241m=\u001b[39m traindev_df[\u001b[43mtraindev_df\u001b[49m\u001b[38;5;241;43m.\u001b[39;49m\u001b[43mbusiness_id\u001b[49m\u001b[38;5;241m.\u001b[39misin(all_business_ids_no_overlap)]\n\u001b[1;32m    860\u001b[0m \u001b[38;5;28;01mreturn\u001b[39;00m traindev_df\n",
      "File \u001b[0;32m~/.local/lib/python3.9/site-packages/pandas/core/generic.py:5575\u001b[0m, in \u001b[0;36mNDFrame.__getattr__\u001b[0;34m(self, name)\u001b[0m\n\u001b[1;32m   5568\u001b[0m \u001b[38;5;28;01mif\u001b[39;00m (\n\u001b[1;32m   5569\u001b[0m     name \u001b[38;5;129;01mnot\u001b[39;00m \u001b[38;5;129;01min\u001b[39;00m \u001b[38;5;28mself\u001b[39m\u001b[38;5;241m.\u001b[39m_internal_names_set\n\u001b[1;32m   5570\u001b[0m     \u001b[38;5;129;01mand\u001b[39;00m name \u001b[38;5;129;01mnot\u001b[39;00m \u001b[38;5;129;01min\u001b[39;00m \u001b[38;5;28mself\u001b[39m\u001b[38;5;241m.\u001b[39m_metadata\n\u001b[1;32m   5571\u001b[0m     \u001b[38;5;129;01mand\u001b[39;00m name \u001b[38;5;129;01mnot\u001b[39;00m \u001b[38;5;129;01min\u001b[39;00m \u001b[38;5;28mself\u001b[39m\u001b[38;5;241m.\u001b[39m_accessors\n\u001b[1;32m   5572\u001b[0m     \u001b[38;5;129;01mand\u001b[39;00m \u001b[38;5;28mself\u001b[39m\u001b[38;5;241m.\u001b[39m_info_axis\u001b[38;5;241m.\u001b[39m_can_hold_identifiers_and_holds_name(name)\n\u001b[1;32m   5573\u001b[0m ):\n\u001b[1;32m   5574\u001b[0m     \u001b[38;5;28;01mreturn\u001b[39;00m \u001b[38;5;28mself\u001b[39m[name]\n\u001b[0;32m-> 5575\u001b[0m \u001b[38;5;28;01mreturn\u001b[39;00m \u001b[38;5;28;43mobject\u001b[39;49m\u001b[38;5;241;43m.\u001b[39;49m\u001b[38;5;21;43m__getattribute__\u001b[39;49m\u001b[43m(\u001b[49m\u001b[38;5;28;43mself\u001b[39;49m\u001b[43m,\u001b[49m\u001b[43m \u001b[49m\u001b[43mname\u001b[49m\u001b[43m)\u001b[49m\n",
      "\u001b[0;31mAttributeError\u001b[0m: 'DataFrame' object has no attribute 'business_id'"
     ]
    }
   ],
   "source": [
    "traindev_df = df_add_business_id(traindev_df)\n",
    "traindev_df = filter_overlapping_businesses(traindev_df, lookup_rootcat_bid_no_overlap)"
   ]
  },
  {
   "cell_type": "markdown",
   "metadata": {},
   "source": [
    "#### Manually split into N shards for cross-validation"
   ]
  },
  {
   "cell_type": "code",
   "execution_count": null,
   "metadata": {},
   "outputs": [],
   "source": [
    "n_split = 4"
   ]
  },
  {
   "cell_type": "code",
   "execution_count": null,
   "metadata": {},
   "outputs": [],
   "source": [
    "groups = make_group_split(lookup_rootcat_bid_no_overlap, n=n_split)\n",
    "map_cg_train_dev_groups = make_cross_eval_dfs(traindev_df, groups, lookup_rootcat_bid_no_overlap)"
   ]
  },
  {
   "cell_type": "code",
   "execution_count": null,
   "metadata": {},
   "outputs": [],
   "source": [
    "fn_group = data_yelp_path / f\"group_data_save_k={n_split}.p\"\n",
    "\n",
    "with open(fn_group, \"wb\") as fp:\n",
    "    pickle.dump(groups, fp, protocol=pickle.HIGHEST_PROTOCOL)\n",
    "    pickle.dump(map_cg_train_dev_groups, fp, protocol=pickle.HIGHEST_PROTOCOL)"
   ]
  },
  {
   "cell_type": "code",
   "execution_count": null,
   "metadata": {},
   "outputs": [],
   "source": [
    "fn_group = data_yelp_path / f\"group_data_save_k={n_split}.p\"\n",
    "\n",
    "with open(fn_group, \"rb\") as fp:\n",
    "    groups = pickle.load(fp)\n",
    "    map_cg_train_dev_groups = pickle.load(fp)"
   ]
  },
  {
   "cell_type": "markdown",
   "metadata": {},
   "source": [
    "---"
   ]
  },
  {
   "cell_type": "markdown",
   "metadata": {},
   "source": [
    "#### Run cross eval"
   ]
  },
  {
   "cell_type": "code",
   "execution_count": 18,
   "metadata": {},
   "outputs": [
    {
     "ename": "NameError",
     "evalue": "name 'n_split' is not defined",
     "output_type": "error",
     "traceback": [
      "\u001b[0;31m---------------------------------------------------------------------------\u001b[0m",
      "\u001b[0;31mNameError\u001b[0m                                 Traceback (most recent call last)",
      "Input \u001b[0;32mIn [18]\u001b[0m, in \u001b[0;36m<cell line: 1>\u001b[0;34m()\u001b[0m\n\u001b[0;32m----> 1\u001b[0m run_name_base \u001b[38;5;241m=\u001b[39m \u001b[38;5;124mf\u001b[39m\u001b[38;5;124m\"\u001b[39m\u001b[38;5;124mmanual-cross-eval-\u001b[39m\u001b[38;5;132;01m{\u001b[39;00mn_split\u001b[38;5;132;01m}\u001b[39;00m\u001b[38;5;124m\"\u001b[39m\n\u001b[1;32m      2\u001b[0m fn_data_base_path \u001b[38;5;241m=\u001b[39m \u001b[38;5;124m\"\u001b[39m\u001b[38;5;124mdata/sentiment\u001b[39m\u001b[38;5;124m\"\u001b[39m\n",
      "\u001b[0;31mNameError\u001b[0m: name 'n_split' is not defined"
     ]
    }
   ],
   "source": [
    "run_name_base = f\"manual-cross-eval-{n_split}\"\n",
    "fn_data_base_path = \"data/sentiment\""
   ]
  },
  {
   "cell_type": "code",
   "execution_count": 19,
   "metadata": {},
   "outputs": [
    {
     "ename": "NameError",
     "evalue": "name 'map_cg_train_dev_groups' is not defined",
     "output_type": "error",
     "traceback": [
      "\u001b[0;31m---------------------------------------------------------------------------\u001b[0m",
      "\u001b[0;31mNameError\u001b[0m                                 Traceback (most recent call last)",
      "Input \u001b[0;32mIn [19]\u001b[0m, in \u001b[0;36m<cell line: 1>\u001b[0;34m()\u001b[0m\n\u001b[0;32m----> 1\u001b[0m \u001b[38;5;28;01mfor\u001b[39;00m i, (cg_ids, (train_df, dev_df, dev_dfs)) \u001b[38;5;129;01min\u001b[39;00m \u001b[38;5;28menumerate\u001b[39m(\u001b[43mmap_cg_train_dev_groups\u001b[49m\u001b[38;5;241m.\u001b[39mitems()):\n\u001b[1;32m      2\u001b[0m     \u001b[38;5;28mprint\u001b[39m(\u001b[38;5;124mf\u001b[39m\u001b[38;5;124m\"\u001b[39m\u001b[38;5;124mWrite data for group fold \u001b[39m\u001b[38;5;132;01m{\u001b[39;00mcg_ids\u001b[38;5;132;01m}\u001b[39;00m\u001b[38;5;124m #\u001b[39m\u001b[38;5;132;01m{\u001b[39;00m\u001b[38;5;28mlen\u001b[39m(train_df)\u001b[38;5;132;01m}\u001b[39;00m\u001b[38;5;124m...\u001b[39m\u001b[38;5;124m\"\u001b[39m)\n\u001b[1;32m      4\u001b[0m     run_name \u001b[38;5;241m=\u001b[39m \u001b[38;5;124mf\u001b[39m\u001b[38;5;124m\"\u001b[39m\u001b[38;5;132;01m{\u001b[39;00mrun_name_base\u001b[38;5;132;01m}\u001b[39;00m\u001b[38;5;124m_g\u001b[39m\u001b[38;5;132;01m{\u001b[39;00mi\u001b[38;5;132;01m}\u001b[39;00m\u001b[38;5;124m\"\u001b[39m\n",
      "\u001b[0;31mNameError\u001b[0m: name 'map_cg_train_dev_groups' is not defined"
     ]
    }
   ],
   "source": [
    "for i, (cg_ids, (train_df, dev_df, dev_dfs)) in enumerate(map_cg_train_dev_groups.items()):\n",
    "    print(f\"Write data for group fold {cg_ids} #{len(train_df)}...\")\n",
    "\n",
    "    run_name = f\"{run_name_base}_g{i}\"\n",
    "\n",
    "    fn_data_path = Path(f\"{fn_data_base_path}/{run_name_base}/{run_name}\")\n",
    "    fn_data_path.mkdir(parents=True, exist_ok=True)\n",
    "\n",
    "    with Timer(f\"write data\"):\n",
    "        fn_group = fn_data_path / \"group_data.p\"\n",
    "        with open(fn_group, \"wb\") as fp:\n",
    "            pickle.dump(cg_ids, fp, protocol=pickle.HIGHEST_PROTOCOL)\n",
    "            pickle.dump(train_df, fp, protocol=pickle.HIGHEST_PROTOCOL)\n",
    "            pickle.dump(dev_df, fp, protocol=pickle.HIGHEST_PROTOCOL)\n",
    "            pickle.dump(dev_dfs, fp, protocol=pickle.HIGHEST_PROTOCOL)\n",
    "            pickle.dump(groups, fp, protocol=pickle.HIGHEST_PROTOCOL)\n",
    "\n",
    "        write_pair_tdt_tsv(fn_data_path, traindev_df, split_test=0.1, split_dev=0.3)\n",
    "        \n",
    "    # ------------------\n",
    "        \n",
    "    cg_groups = [cg_ids_o for cg_ids_o in groups if cg_ids_o != cg_ids]\n",
    "    for cgi, (cg_ids_o, dev_df) in enumerate(zip(cg_groups, dev_dfs)):\n",
    "        fn_dev_tsv = fn_data_path / f\"group-{cgi}\" / \"dev.tsv\"\n",
    "        write_pair_df_tsv(dev_df, fn_dev_tsv, desc=\"dev\")\n",
    "        \n",
    "    # ------------------\n",
    "    \n",
    "    for cgi, (cg_id, businesses) in enumerate(lookup_rootcat_bid_no_overlap.items()):\n",
    "        # check if train data, skip since we did not split into eval\n",
    "        if cg_id in cg_ids:\n",
    "            continue\n",
    "        if not businesses:\n",
    "            print(f\"Skip empty df: {cg_id}\")\n",
    "            continue\n",
    "            \n",
    "        dev_df = traindev_df[traindev_df.business_id.isin(businesses)]\n",
    "\n",
    "        fn_dev_tsv = fn_data_path / f\"categ-{cgi}\" / \"dev.tsv\"\n",
    "        write_pair_df_tsv(dev_df, fn_dev_tsv, desc=\"dev\")\n",
    "\n",
    "        \n",
    "    # cg_results[cg_ids] = compute_metrics(y_true, y_pred, precision=8, averaging=\"macro\", dump=False)"
   ]
  },
  {
   "cell_type": "code",
   "execution_count": null,
   "metadata": {},
   "outputs": [],
   "source": []
  }
 ],
 "metadata": {
  "kernelspec": {
   "display_name": "Python 3 (ipykernel)",
   "language": "python",
   "name": "python3"
  },
  "language_info": {
   "codemirror_mode": {
    "name": "ipython",
    "version": 3
   },
   "file_extension": ".py",
   "mimetype": "text/x-python",
   "name": "python",
   "nbconvert_exporter": "python",
   "pygments_lexer": "ipython3",
   "version": "3.9.7"
  }
 },
 "nbformat": 4,
 "nbformat_minor": 4
}
