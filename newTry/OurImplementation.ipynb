{
 "cells": [
  {
   "cell_type": "code",
   "execution_count": 1,
   "id": "52051a53",
   "metadata": {},
   "outputs": [
    {
     "name": "stdout",
     "output_type": "stream",
     "text": [
      "Defaulting to user installation because normal site-packages is not writeable\n",
      "Requirement already satisfied: transformers in /home/jupyter-dunphya20/.local/lib/python3.9/site-packages (4.17.0)\n",
      "Requirement already satisfied: filelock in /home/jupyter-dunphya20/.local/lib/python3.9/site-packages (from transformers) (3.6.0)\n",
      "Requirement already satisfied: tqdm>=4.27 in /opt/tljh/user/lib/python3.9/site-packages (from transformers) (4.62.3)\n",
      "Requirement already satisfied: pyyaml>=5.1 in /home/jupyter-dunphya20/.local/lib/python3.9/site-packages (from transformers) (6.0)\n",
      "Requirement already satisfied: tokenizers!=0.11.3,>=0.11.1 in /home/jupyter-dunphya20/.local/lib/python3.9/site-packages (from transformers) (0.11.6)\n",
      "Requirement already satisfied: regex!=2019.12.17 in /home/jupyter-dunphya20/.local/lib/python3.9/site-packages (from transformers) (2022.3.15)\n",
      "Requirement already satisfied: huggingface-hub<1.0,>=0.1.0 in /home/jupyter-dunphya20/.local/lib/python3.9/site-packages (from transformers) (0.4.0)\n",
      "Requirement already satisfied: numpy>=1.17 in /home/jupyter-dunphya20/.local/lib/python3.9/site-packages (from transformers) (1.22.3)\n",
      "Requirement already satisfied: sacremoses in /home/jupyter-dunphya20/.local/lib/python3.9/site-packages (from transformers) (0.0.49)\n",
      "Requirement already satisfied: packaging>=20.0 in /opt/tljh/user/lib/python3.9/site-packages (from transformers) (21.3)\n",
      "Requirement already satisfied: requests in /opt/tljh/user/lib/python3.9/site-packages (from transformers) (2.26.0)\n",
      "Requirement already satisfied: typing-extensions>=3.7.4.3 in /home/jupyter-dunphya20/.local/lib/python3.9/site-packages (from huggingface-hub<1.0,>=0.1.0->transformers) (4.1.1)\n",
      "Requirement already satisfied: pyparsing!=3.0.5,>=2.0.2 in /opt/tljh/user/lib/python3.9/site-packages (from packaging>=20.0->transformers) (3.0.7)\n",
      "Requirement already satisfied: charset-normalizer~=2.0.0 in /opt/tljh/user/lib/python3.9/site-packages (from requests->transformers) (2.0.0)\n",
      "Requirement already satisfied: urllib3<1.27,>=1.21.1 in /opt/tljh/user/lib/python3.9/site-packages (from requests->transformers) (1.26.7)\n",
      "Requirement already satisfied: certifi>=2017.4.17 in /opt/tljh/user/lib/python3.9/site-packages (from requests->transformers) (2021.10.8)\n",
      "Requirement already satisfied: idna<4,>=2.5 in /opt/tljh/user/lib/python3.9/site-packages (from requests->transformers) (3.1)\n",
      "Requirement already satisfied: joblib in /home/jupyter-dunphya20/.local/lib/python3.9/site-packages (from sacremoses->transformers) (1.1.0)\n",
      "Requirement already satisfied: six in /opt/tljh/user/lib/python3.9/site-packages (from sacremoses->transformers) (1.16.0)\n",
      "Requirement already satisfied: click in /home/jupyter-dunphya20/.local/lib/python3.9/site-packages (from sacremoses->transformers) (8.1.2)\n",
      "Defaulting to user installation because normal site-packages is not writeable\n",
      "Requirement already satisfied: tensorflow in /home/jupyter-dunphya20/.local/lib/python3.9/site-packages (2.8.0)\n",
      "Requirement already satisfied: grpcio<2.0,>=1.24.3 in /home/jupyter-dunphya20/.local/lib/python3.9/site-packages (from tensorflow) (1.44.0)\n",
      "Requirement already satisfied: libclang>=9.0.1 in /home/jupyter-dunphya20/.local/lib/python3.9/site-packages (from tensorflow) (13.0.0)\n",
      "Requirement already satisfied: opt-einsum>=2.3.2 in /home/jupyter-dunphya20/.local/lib/python3.9/site-packages (from tensorflow) (3.3.0)\n",
      "Requirement already satisfied: gast>=0.2.1 in /home/jupyter-dunphya20/.local/lib/python3.9/site-packages (from tensorflow) (0.5.3)\n",
      "Requirement already satisfied: flatbuffers>=1.12 in /home/jupyter-dunphya20/.local/lib/python3.9/site-packages (from tensorflow) (2.0)\n",
      "Requirement already satisfied: google-pasta>=0.1.1 in /home/jupyter-dunphya20/.local/lib/python3.9/site-packages (from tensorflow) (0.2.0)\n",
      "Requirement already satisfied: termcolor>=1.1.0 in /home/jupyter-dunphya20/.local/lib/python3.9/site-packages (from tensorflow) (1.1.0)\n",
      "Requirement already satisfied: tensorboard<2.9,>=2.8 in /home/jupyter-dunphya20/.local/lib/python3.9/site-packages (from tensorflow) (2.8.0)\n",
      "Requirement already satisfied: tf-estimator-nightly==2.8.0.dev2021122109 in /home/jupyter-dunphya20/.local/lib/python3.9/site-packages (from tensorflow) (2.8.0.dev2021122109)\n",
      "Requirement already satisfied: protobuf>=3.9.2 in /home/jupyter-dunphya20/.local/lib/python3.9/site-packages (from tensorflow) (3.20.0)\n",
      "Requirement already satisfied: h5py>=2.9.0 in /home/jupyter-dunphya20/.local/lib/python3.9/site-packages (from tensorflow) (3.6.0)\n",
      "Requirement already satisfied: numpy>=1.20 in /home/jupyter-dunphya20/.local/lib/python3.9/site-packages (from tensorflow) (1.22.3)\n",
      "Requirement already satisfied: astunparse>=1.6.0 in /home/jupyter-dunphya20/.local/lib/python3.9/site-packages (from tensorflow) (1.6.3)\n",
      "Requirement already satisfied: keras-preprocessing>=1.1.1 in /home/jupyter-dunphya20/.local/lib/python3.9/site-packages (from tensorflow) (1.1.2)\n",
      "Requirement already satisfied: setuptools in /opt/tljh/user/lib/python3.9/site-packages (from tensorflow) (58.2.0)\n",
      "Requirement already satisfied: wrapt>=1.11.0 in /home/jupyter-dunphya20/.local/lib/python3.9/site-packages (from tensorflow) (1.14.0)\n",
      "Requirement already satisfied: six>=1.12.0 in /opt/tljh/user/lib/python3.9/site-packages (from tensorflow) (1.16.0)\n",
      "Requirement already satisfied: keras<2.9,>=2.8.0rc0 in /home/jupyter-dunphya20/.local/lib/python3.9/site-packages (from tensorflow) (2.8.0)\n",
      "Requirement already satisfied: tensorflow-io-gcs-filesystem>=0.23.1 in /home/jupyter-dunphya20/.local/lib/python3.9/site-packages (from tensorflow) (0.24.0)\n",
      "Requirement already satisfied: typing-extensions>=3.6.6 in /home/jupyter-dunphya20/.local/lib/python3.9/site-packages (from tensorflow) (4.1.1)\n",
      "Requirement already satisfied: absl-py>=0.4.0 in /home/jupyter-dunphya20/.local/lib/python3.9/site-packages (from tensorflow) (1.0.0)\n",
      "Requirement already satisfied: wheel<1.0,>=0.23.0 in /opt/tljh/user/lib/python3.9/site-packages (from astunparse>=1.6.0->tensorflow) (0.37.0)\n",
      "Requirement already satisfied: tensorboard-data-server<0.7.0,>=0.6.0 in /home/jupyter-dunphya20/.local/lib/python3.9/site-packages (from tensorboard<2.9,>=2.8->tensorflow) (0.6.1)\n",
      "Requirement already satisfied: werkzeug>=0.11.15 in /home/jupyter-dunphya20/.local/lib/python3.9/site-packages (from tensorboard<2.9,>=2.8->tensorflow) (2.1.1)\n",
      "Requirement already satisfied: google-auth<3,>=1.6.3 in /home/jupyter-dunphya20/.local/lib/python3.9/site-packages (from tensorboard<2.9,>=2.8->tensorflow) (2.6.2)\n",
      "Requirement already satisfied: requests<3,>=2.21.0 in /opt/tljh/user/lib/python3.9/site-packages (from tensorboard<2.9,>=2.8->tensorflow) (2.26.0)\n",
      "Requirement already satisfied: markdown>=2.6.8 in /home/jupyter-dunphya20/.local/lib/python3.9/site-packages (from tensorboard<2.9,>=2.8->tensorflow) (3.3.6)\n",
      "Requirement already satisfied: tensorboard-plugin-wit>=1.6.0 in /home/jupyter-dunphya20/.local/lib/python3.9/site-packages (from tensorboard<2.9,>=2.8->tensorflow) (1.8.1)\n",
      "Requirement already satisfied: google-auth-oauthlib<0.5,>=0.4.1 in /home/jupyter-dunphya20/.local/lib/python3.9/site-packages (from tensorboard<2.9,>=2.8->tensorflow) (0.4.6)\n",
      "Requirement already satisfied: rsa<5,>=3.1.4 in /home/jupyter-dunphya20/.local/lib/python3.9/site-packages (from google-auth<3,>=1.6.3->tensorboard<2.9,>=2.8->tensorflow) (4.8)\n",
      "Requirement already satisfied: pyasn1-modules>=0.2.1 in /home/jupyter-dunphya20/.local/lib/python3.9/site-packages (from google-auth<3,>=1.6.3->tensorboard<2.9,>=2.8->tensorflow) (0.2.8)\n",
      "Requirement already satisfied: cachetools<6.0,>=2.0.0 in /home/jupyter-dunphya20/.local/lib/python3.9/site-packages (from google-auth<3,>=1.6.3->tensorboard<2.9,>=2.8->tensorflow) (5.0.0)\n",
      "Requirement already satisfied: requests-oauthlib>=0.7.0 in /home/jupyter-dunphya20/.local/lib/python3.9/site-packages (from google-auth-oauthlib<0.5,>=0.4.1->tensorboard<2.9,>=2.8->tensorflow) (1.3.1)\n",
      "Requirement already satisfied: importlib-metadata>=4.4 in /home/jupyter-dunphya20/.local/lib/python3.9/site-packages (from markdown>=2.6.8->tensorboard<2.9,>=2.8->tensorflow) (4.11.3)\n",
      "Requirement already satisfied: certifi>=2017.4.17 in /opt/tljh/user/lib/python3.9/site-packages (from requests<3,>=2.21.0->tensorboard<2.9,>=2.8->tensorflow) (2021.10.8)\n",
      "Requirement already satisfied: charset-normalizer~=2.0.0 in /opt/tljh/user/lib/python3.9/site-packages (from requests<3,>=2.21.0->tensorboard<2.9,>=2.8->tensorflow) (2.0.0)\n",
      "Requirement already satisfied: idna<4,>=2.5 in /opt/tljh/user/lib/python3.9/site-packages (from requests<3,>=2.21.0->tensorboard<2.9,>=2.8->tensorflow) (3.1)\n",
      "Requirement already satisfied: urllib3<1.27,>=1.21.1 in /opt/tljh/user/lib/python3.9/site-packages (from requests<3,>=2.21.0->tensorboard<2.9,>=2.8->tensorflow) (1.26.7)\n"
     ]
    },
    {
     "name": "stdout",
     "output_type": "stream",
     "text": [
      "Requirement already satisfied: zipp>=0.5 in /home/jupyter-dunphya20/.local/lib/python3.9/site-packages (from importlib-metadata>=4.4->markdown>=2.6.8->tensorboard<2.9,>=2.8->tensorflow) (3.7.0)\r\n",
      "Requirement already satisfied: pyasn1<0.5.0,>=0.4.6 in /home/jupyter-dunphya20/.local/lib/python3.9/site-packages (from pyasn1-modules>=0.2.1->google-auth<3,>=1.6.3->tensorboard<2.9,>=2.8->tensorflow) (0.4.8)\r\n",
      "Requirement already satisfied: oauthlib>=3.0.0 in /opt/tljh/user/lib/python3.9/site-packages (from requests-oauthlib>=0.7.0->google-auth-oauthlib<0.5,>=0.4.1->tensorboard<2.9,>=2.8->tensorflow) (3.2.0)\r\n"
     ]
    }
   ],
   "source": [
    "!pip install transformers\n",
    "!pip install --upgrade tensorflow"
   ]
  },
  {
   "cell_type": "code",
   "execution_count": 2,
   "id": "f2799cab",
   "metadata": {},
   "outputs": [
    {
     "name": "stderr",
     "output_type": "stream",
     "text": [
      "2022-04-15 06:27:54.508555: W tensorflow/stream_executor/platform/default/dso_loader.cc:64] Could not load dynamic library 'libcudart.so.11.0'; dlerror: libcudart.so.11.0: cannot open shared object file: No such file or directory\n",
      "2022-04-15 06:27:54.508594: I tensorflow/stream_executor/cuda/cudart_stub.cc:29] Ignore above cudart dlerror if you do not have a GPU set up on your machine.\n"
     ]
    }
   ],
   "source": [
    "from transformers import InputExample, InputFeatures\n",
    "from transformers import DistilBertTokenizerFast\n",
    "from transformers import TFDistilBertForSequenceClassification"
   ]
  },
  {
   "cell_type": "code",
   "execution_count": 26,
   "id": "03c68634",
   "metadata": {},
   "outputs": [
    {
     "name": "stdout",
     "output_type": "stream",
     "text": [
      "                                                   text  Sentiment  ratings\n",
      "0     If you decide to eat here, just be aware it is...          1        3\n",
      "1     I've taken a lot of spin classes over the year...          1        5\n",
      "2     Family diner. Had the buffet. Eclectic assortm...          1        3\n",
      "3     Wow!  Yummy, different,  delicious.   Our favo...          1        5\n",
      "4     Cute interior and owner (?) gave us tour of up...          1        4\n",
      "...                                                 ...        ...      ...\n",
      "9995  Excellent food and service. The place is funct...          1        5\n",
      "9996  Just about to get tucked into a meatloaf that ...          1        5\n",
      "9997  Outstanding customer service! And my car is dr...          1        5\n",
      "9998  I and my husband went here for Dinner one day ...          1        5\n",
      "9999  I saw Big Data when they came to town at the K...          0        2\n",
      "\n",
      "[10000 rows x 3 columns]\n"
     ]
    }
   ],
   "source": [
    "import tensorflow as tf\n",
    "import pandas as pd\n",
    "df = pd.read_json('review_10000.json', lines=True)\n",
    "\n",
    "#get only the text\n",
    "#sentences = df.text.values\n",
    "\n",
    "#assigns positive of negative (words) to sentiment\n",
    "df[\"Sentiment\"] = df.stars.apply(lambda score: \"positive\" if score >= 3 else \"negative\")\n",
    "# change positive / negative to 1/ 0\n",
    "df['Sentiment'] = df['Sentiment'].map({'positive':1, 'negative':0})\n",
    "df['ratings'] = df.stars\n",
    "#just show the review and the new 1/0 \n",
    "df = df[[\"text\", \"Sentiment\", \"ratings\"]]\n",
    "\n",
    "print(df)"
   ]
  },
  {
   "cell_type": "code",
   "execution_count": 27,
   "id": "c2cb350c",
   "metadata": {},
   "outputs": [],
   "source": [
    "reviews = df.text.values.tolist()\n",
    "labels = df.Sentiment.tolist()\n",
    "stars = df.ratings.tolist()\n",
    "\n"
   ]
  },
  {
   "cell_type": "code",
   "execution_count": 28,
   "id": "4a634ca8",
   "metadata": {},
   "outputs": [
    {
     "name": "stdout",
     "output_type": "stream",
     "text": [
      "[\"If you decide to eat here, just be aware it is going to take about 2 hours from beginning to end. We have tried it multiple times, because I want to like it! I have been to it's other locations in NJ and never had a bad experience. \\n\\nThe food is good, but it takes a very long time to come out. The waitstaff is very young, but usually pleasant. We have just had too many experiences where we spent way too long waiting. We usually opt for another diner or restaurant on the weekends, in order to be done quicker.\", \"I've taken a lot of spin classes over the years, and nothing compares to the classes at Body Cycle. From the nice, clean space and amazing bikes, to the welcoming and motivating instructors, every class is a top notch work out.\\n\\nFor anyone who struggles to fit workouts in, the online scheduling system makes it easy to plan ahead (and there's no need to line up way in advanced like many gyms make you do).\\n\\nThere is no way I can write this review without giving Russell, the owner of Body Cycle, a shout out. Russell's passion for fitness and cycling is so evident, as is his desire for all of his clients to succeed. He is always dropping in to classes to check in/provide encouragement, and is open to ideas and recommendations from anyone. Russell always wears a smile on his face, even when he's kicking your butt in class!\"]\n",
      "[1, 1]\n"
     ]
    }
   ],
   "source": [
    "print(reviews[:2])\n",
    "print(labels[:2])"
   ]
  },
  {
   "cell_type": "code",
   "execution_count": 29,
   "id": "4d116ba8",
   "metadata": {},
   "outputs": [],
   "source": [
    "from sklearn.model_selection import train_test_split\n",
    "training_sentences, validation_sentences, training_labels, validation_labels = train_test_split(reviews, labels, test_size=.2)"
   ]
  },
  {
   "cell_type": "code",
   "execution_count": 30,
   "id": "602165a8",
   "metadata": {},
   "outputs": [],
   "source": [
    "tokenizer = DistilBertTokenizerFast.from_pretrained('distilbert-base-uncased')\n"
   ]
  },
  {
   "cell_type": "code",
   "execution_count": 31,
   "id": "46f2528e",
   "metadata": {},
   "outputs": [
    {
     "data": {
      "text/plain": [
       "{'input_ids': [[101, 1045, 3641, 7975, 14841, 15714, 16137, 7911, 1998, 3869, 15478, 2005, 4596, 1012, 2027, 2134, 1005, 1056, 5510, 2004, 4840, 1998, 2204, 2004, 1045, 2031, 3517, 1012, 2174, 1010, 1996, 3954, 1997, 4825, 2170, 2067, 2157, 2185, 1998, 17806, 1012, 1045, 2001, 7622, 2011, 1996, 4825, 1005, 1055, 2064, 7983, 1998, 29454, 29206, 3401, 1999, 8013, 9967, 1012, 2947, 1010, 1045, 2228, 1045, 2572, 2183, 2000, 2175, 2067, 1998, 3046, 2009, 2153, 1999, 1037, 2261, 3134, 2000, 2156, 3251, 2045, 2003, 2151, 7620, 1999, 1996, 3737, 1997, 2833, 1012, 102]], 'attention_mask': [[1, 1, 1, 1, 1, 1, 1, 1, 1, 1, 1, 1, 1, 1, 1, 1, 1, 1, 1, 1, 1, 1, 1, 1, 1, 1, 1, 1, 1, 1, 1, 1, 1, 1, 1, 1, 1, 1, 1, 1, 1, 1, 1, 1, 1, 1, 1, 1, 1, 1, 1, 1, 1, 1, 1, 1, 1, 1, 1, 1, 1, 1, 1, 1, 1, 1, 1, 1, 1, 1, 1, 1, 1, 1, 1, 1, 1, 1, 1, 1, 1, 1, 1, 1, 1, 1, 1, 1, 1, 1, 1]]}"
      ]
     },
     "execution_count": 31,
     "metadata": {},
     "output_type": "execute_result"
    }
   ],
   "source": [
    "tokenizer([training_sentences[0]], truncation=True,\n",
    "                            padding=True, max_length=128)"
   ]
  },
  {
   "cell_type": "code",
   "execution_count": 32,
   "id": "2ff4c1b9",
   "metadata": {},
   "outputs": [],
   "source": [
    "train_encodings = tokenizer(training_sentences,\n",
    "                            truncation=True,\n",
    "                            padding=True)\n",
    "val_encodings = tokenizer(validation_sentences,\n",
    "                            truncation=True,\n",
    "                            padding=True)"
   ]
  },
  {
   "cell_type": "code",
   "execution_count": 33,
   "id": "f788d2ff",
   "metadata": {},
   "outputs": [],
   "source": [
    "train_dataset = tf.data.Dataset.from_tensor_slices((\n",
    "    dict(train_encodings),\n",
    "    training_labels\n",
    "))\n",
    "\n",
    "val_dataset = tf.data.Dataset.from_tensor_slices((\n",
    "    dict(val_encodings),\n",
    "    validation_labels\n",
    "))\n"
   ]
  },
  {
   "cell_type": "code",
   "execution_count": 34,
   "id": "c4a8219b",
   "metadata": {},
   "outputs": [
    {
     "name": "stderr",
     "output_type": "stream",
     "text": [
      "Some layers from the model checkpoint at distilbert-base-uncased were not used when initializing TFDistilBertForSequenceClassification: ['vocab_transform', 'activation_13', 'vocab_projector', 'vocab_layer_norm']\n",
      "- This IS expected if you are initializing TFDistilBertForSequenceClassification from the checkpoint of a model trained on another task or with another architecture (e.g. initializing a BertForSequenceClassification model from a BertForPreTraining model).\n",
      "- This IS NOT expected if you are initializing TFDistilBertForSequenceClassification from the checkpoint of a model that you expect to be exactly identical (initializing a BertForSequenceClassification model from a BertForSequenceClassification model).\n",
      "Some layers of TFDistilBertForSequenceClassification were not initialized from the model checkpoint at distilbert-base-uncased and are newly initialized: ['classifier', 'pre_classifier', 'dropout_59']\n",
      "You should probably TRAIN this model on a down-stream task to be able to use it for predictions and inference.\n"
     ]
    }
   ],
   "source": [
    "model = TFDistilBertForSequenceClassification.from_pretrained('distilbert-base-uncased',num_labels=2)\n"
   ]
  },
  {
   "cell_type": "code",
   "execution_count": 35,
   "id": "e8110e0c",
   "metadata": {},
   "outputs": [],
   "source": [
    "from sklearn.model_selection import train_test_split\n",
    "training_sentences, validation_sentences, training_labels, validation_labels = train_test_split(reviews, labels, test_size=.2)"
   ]
  },
  {
   "cell_type": "code",
   "execution_count": 36,
   "id": "cf8d68ea",
   "metadata": {},
   "outputs": [
    {
     "name": "stderr",
     "output_type": "stream",
     "text": [
      "Some layers from the model checkpoint at ./sentiment were not used when initializing TFDistilBertForSequenceClassification: ['dropout_59']\n",
      "- This IS expected if you are initializing TFDistilBertForSequenceClassification from the checkpoint of a model trained on another task or with another architecture (e.g. initializing a BertForSequenceClassification model from a BertForPreTraining model).\n",
      "- This IS NOT expected if you are initializing TFDistilBertForSequenceClassification from the checkpoint of a model that you expect to be exactly identical (initializing a BertForSequenceClassification model from a BertForSequenceClassification model).\n",
      "Some layers of TFDistilBertForSequenceClassification were not initialized from the model checkpoint at ./sentiment and are newly initialized: ['dropout_79']\n",
      "You should probably TRAIN this model on a down-stream task to be able to use it for predictions and inference.\n"
     ]
    }
   ],
   "source": [
    "model.save_pretrained(\"./sentiment\")\n",
    "loaded_model = TFDistilBertForSequenceClassification.from_pretrained(\"./sentiment\")\n"
   ]
  },
  {
   "cell_type": "code",
   "execution_count": 37,
   "id": "1997a41c",
   "metadata": {},
   "outputs": [
    {
     "name": "stdout",
     "output_type": "stream",
     "text": [
      "10000\n",
      "8158\n",
      "1842\n"
     ]
    }
   ],
   "source": [
    "totalPos = 0\n",
    "totalNeg = 0\n",
    "\n",
    "for i in stars:\n",
    "    if (i >= 3):\n",
    "        totalPos = totalPos + 1\n",
    "    else: \n",
    "        totalNeg = totalNeg + 1\n",
    "# count the number of positives and negatives based on numbers\n",
    "print(len(reviews))\n",
    "print(totalPos)\n",
    "print(totalNeg)"
   ]
  },
  {
   "cell_type": "code",
   "execution_count": null,
   "id": "d4aacdc5",
   "metadata": {},
   "outputs": [],
   "source": [
    "labelString = ['Negative','Positive']\n",
    "\n",
    "# test each review\n",
    "# middle_index=len(reviews)//2\n",
    "\n",
    "# first_half=reviews[:middle_index]\n",
    "# sec_half=reviews[middle_index:]\n",
    "# label_first_half = labels[:middle_index]\n",
    "# label_sec_half = labels[middle_index:]\n",
    "index = 0\n",
    "currPos = 0\n",
    "currNeg = 0\n",
    "for item1 in reviews:\n",
    "    # compare to item1 in second half\n",
    "    predict_input = tokenizer.encode(item1,\n",
    "                                 truncation=True,\n",
    "                                 padding=True,\n",
    "                                 return_tensors=\"tf\")\n",
    "   \n",
    "    tf_output = loaded_model.predict(predict_input)[0]\n",
    "    tf_prediction = tf.nn.softmax(tf_output, axis=1)\n",
    "    label = tf.argmax(tf_prediction, axis=1)\n",
    "    label = label.numpy()\n",
    "    \n",
    "    if (label[0] == 0):\n",
    "        currNeg = currNeg + 1\n",
    "    else:\n",
    "        currPos = currPos + 1\n",
    "    index = index + 1\n",
    "    \n",
    "\n",
    "print(index)\n",
    "print(currPos)\n",
    "print(currNeg)\n",
    " "
   ]
  },
  {
   "cell_type": "code",
   "execution_count": null,
   "id": "4400b794",
   "metadata": {},
   "outputs": [],
   "source": []
  }
 ],
 "metadata": {
  "kernelspec": {
   "display_name": "Python 3 (ipykernel)",
   "language": "python",
   "name": "python3"
  },
  "language_info": {
   "codemirror_mode": {
    "name": "ipython",
    "version": 3
   },
   "file_extension": ".py",
   "mimetype": "text/x-python",
   "name": "python",
   "nbconvert_exporter": "python",
   "pygments_lexer": "ipython3",
   "version": "3.9.7"
  }
 },
 "nbformat": 4,
 "nbformat_minor": 5
}
