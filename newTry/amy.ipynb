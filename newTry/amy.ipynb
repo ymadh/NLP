{
 "cells": [
  {
   "cell_type": "code",
   "execution_count": 1,
   "id": "52051a53",
   "metadata": {},
   "outputs": [
    {
     "name": "stdout",
     "output_type": "stream",
     "text": [
      "Defaulting to user installation because normal site-packages is not writeable\n",
      "Requirement already satisfied: transformers in /home/jupyter-dunphya20/.local/lib/python3.9/site-packages (4.17.0)\n",
      "Requirement already satisfied: regex!=2019.12.17 in /home/jupyter-dunphya20/.local/lib/python3.9/site-packages (from transformers) (2022.3.15)\n",
      "Requirement already satisfied: sacremoses in /home/jupyter-dunphya20/.local/lib/python3.9/site-packages (from transformers) (0.0.49)\n",
      "Requirement already satisfied: tqdm>=4.27 in /opt/tljh/user/lib/python3.9/site-packages (from transformers) (4.62.3)\n",
      "Requirement already satisfied: filelock in /home/jupyter-dunphya20/.local/lib/python3.9/site-packages (from transformers) (3.6.0)\n",
      "Requirement already satisfied: numpy>=1.17 in /home/jupyter-dunphya20/.local/lib/python3.9/site-packages (from transformers) (1.22.3)\n",
      "Requirement already satisfied: pyyaml>=5.1 in /home/jupyter-dunphya20/.local/lib/python3.9/site-packages (from transformers) (6.0)\n",
      "Requirement already satisfied: packaging>=20.0 in /opt/tljh/user/lib/python3.9/site-packages (from transformers) (21.3)\n",
      "Requirement already satisfied: tokenizers!=0.11.3,>=0.11.1 in /home/jupyter-dunphya20/.local/lib/python3.9/site-packages (from transformers) (0.11.6)\n",
      "Requirement already satisfied: requests in /opt/tljh/user/lib/python3.9/site-packages (from transformers) (2.26.0)\n",
      "Requirement already satisfied: huggingface-hub<1.0,>=0.1.0 in /home/jupyter-dunphya20/.local/lib/python3.9/site-packages (from transformers) (0.4.0)\n",
      "Requirement already satisfied: typing-extensions>=3.7.4.3 in /home/jupyter-dunphya20/.local/lib/python3.9/site-packages (from huggingface-hub<1.0,>=0.1.0->transformers) (4.1.1)\n",
      "Requirement already satisfied: pyparsing!=3.0.5,>=2.0.2 in /opt/tljh/user/lib/python3.9/site-packages (from packaging>=20.0->transformers) (3.0.7)\n",
      "Requirement already satisfied: charset-normalizer~=2.0.0 in /opt/tljh/user/lib/python3.9/site-packages (from requests->transformers) (2.0.0)\n",
      "Requirement already satisfied: urllib3<1.27,>=1.21.1 in /opt/tljh/user/lib/python3.9/site-packages (from requests->transformers) (1.26.7)\n",
      "Requirement already satisfied: certifi>=2017.4.17 in /opt/tljh/user/lib/python3.9/site-packages (from requests->transformers) (2021.10.8)\n",
      "Requirement already satisfied: idna<4,>=2.5 in /opt/tljh/user/lib/python3.9/site-packages (from requests->transformers) (3.1)\n",
      "Requirement already satisfied: joblib in /home/jupyter-dunphya20/.local/lib/python3.9/site-packages (from sacremoses->transformers) (1.1.0)\n",
      "Requirement already satisfied: six in /opt/tljh/user/lib/python3.9/site-packages (from sacremoses->transformers) (1.16.0)\n",
      "Requirement already satisfied: click in /home/jupyter-dunphya20/.local/lib/python3.9/site-packages (from sacremoses->transformers) (8.1.2)\n",
      "Defaulting to user installation because normal site-packages is not writeable\n",
      "Requirement already satisfied: tensorflow in /home/jupyter-dunphya20/.local/lib/python3.9/site-packages (2.8.0)\n",
      "Requirement already satisfied: typing-extensions>=3.6.6 in /home/jupyter-dunphya20/.local/lib/python3.9/site-packages (from tensorflow) (4.1.1)\n",
      "Requirement already satisfied: libclang>=9.0.1 in /home/jupyter-dunphya20/.local/lib/python3.9/site-packages (from tensorflow) (13.0.0)\n",
      "Requirement already satisfied: flatbuffers>=1.12 in /home/jupyter-dunphya20/.local/lib/python3.9/site-packages (from tensorflow) (2.0)\n",
      "Requirement already satisfied: tf-estimator-nightly==2.8.0.dev2021122109 in /home/jupyter-dunphya20/.local/lib/python3.9/site-packages (from tensorflow) (2.8.0.dev2021122109)\n",
      "Requirement already satisfied: tensorflow-io-gcs-filesystem>=0.23.1 in /home/jupyter-dunphya20/.local/lib/python3.9/site-packages (from tensorflow) (0.24.0)\n",
      "Requirement already satisfied: h5py>=2.9.0 in /home/jupyter-dunphya20/.local/lib/python3.9/site-packages (from tensorflow) (3.6.0)\n",
      "Requirement already satisfied: keras-preprocessing>=1.1.1 in /home/jupyter-dunphya20/.local/lib/python3.9/site-packages (from tensorflow) (1.1.2)\n",
      "Requirement already satisfied: opt-einsum>=2.3.2 in /home/jupyter-dunphya20/.local/lib/python3.9/site-packages (from tensorflow) (3.3.0)\n",
      "Requirement already satisfied: grpcio<2.0,>=1.24.3 in /home/jupyter-dunphya20/.local/lib/python3.9/site-packages (from tensorflow) (1.44.0)\n",
      "Requirement already satisfied: wrapt>=1.11.0 in /home/jupyter-dunphya20/.local/lib/python3.9/site-packages (from tensorflow) (1.14.0)\n",
      "Requirement already satisfied: keras<2.9,>=2.8.0rc0 in /home/jupyter-dunphya20/.local/lib/python3.9/site-packages (from tensorflow) (2.8.0)\n",
      "Requirement already satisfied: gast>=0.2.1 in /home/jupyter-dunphya20/.local/lib/python3.9/site-packages (from tensorflow) (0.5.3)\n",
      "Requirement already satisfied: google-pasta>=0.1.1 in /home/jupyter-dunphya20/.local/lib/python3.9/site-packages (from tensorflow) (0.2.0)\n",
      "Requirement already satisfied: tensorboard<2.9,>=2.8 in /home/jupyter-dunphya20/.local/lib/python3.9/site-packages (from tensorflow) (2.8.0)\n",
      "Requirement already satisfied: absl-py>=0.4.0 in /home/jupyter-dunphya20/.local/lib/python3.9/site-packages (from tensorflow) (1.0.0)\n",
      "Requirement already satisfied: setuptools in /opt/tljh/user/lib/python3.9/site-packages (from tensorflow) (58.2.0)\n",
      "Requirement already satisfied: astunparse>=1.6.0 in /home/jupyter-dunphya20/.local/lib/python3.9/site-packages (from tensorflow) (1.6.3)\n",
      "Requirement already satisfied: termcolor>=1.1.0 in /home/jupyter-dunphya20/.local/lib/python3.9/site-packages (from tensorflow) (1.1.0)\n",
      "Requirement already satisfied: protobuf>=3.9.2 in /home/jupyter-dunphya20/.local/lib/python3.9/site-packages (from tensorflow) (3.20.0)\n",
      "Requirement already satisfied: numpy>=1.20 in /home/jupyter-dunphya20/.local/lib/python3.9/site-packages (from tensorflow) (1.22.3)\n",
      "Requirement already satisfied: six>=1.12.0 in /opt/tljh/user/lib/python3.9/site-packages (from tensorflow) (1.16.0)\n",
      "Requirement already satisfied: wheel<1.0,>=0.23.0 in /opt/tljh/user/lib/python3.9/site-packages (from astunparse>=1.6.0->tensorflow) (0.37.0)\n",
      "Requirement already satisfied: tensorboard-plugin-wit>=1.6.0 in /home/jupyter-dunphya20/.local/lib/python3.9/site-packages (from tensorboard<2.9,>=2.8->tensorflow) (1.8.1)\n",
      "Requirement already satisfied: google-auth<3,>=1.6.3 in /home/jupyter-dunphya20/.local/lib/python3.9/site-packages (from tensorboard<2.9,>=2.8->tensorflow) (2.6.2)\n",
      "Requirement already satisfied: markdown>=2.6.8 in /home/jupyter-dunphya20/.local/lib/python3.9/site-packages (from tensorboard<2.9,>=2.8->tensorflow) (3.3.6)\n",
      "Requirement already satisfied: tensorboard-data-server<0.7.0,>=0.6.0 in /home/jupyter-dunphya20/.local/lib/python3.9/site-packages (from tensorboard<2.9,>=2.8->tensorflow) (0.6.1)\n",
      "Requirement already satisfied: requests<3,>=2.21.0 in /opt/tljh/user/lib/python3.9/site-packages (from tensorboard<2.9,>=2.8->tensorflow) (2.26.0)\n",
      "Requirement already satisfied: werkzeug>=0.11.15 in /home/jupyter-dunphya20/.local/lib/python3.9/site-packages (from tensorboard<2.9,>=2.8->tensorflow) (2.1.1)\n",
      "Requirement already satisfied: google-auth-oauthlib<0.5,>=0.4.1 in /home/jupyter-dunphya20/.local/lib/python3.9/site-packages (from tensorboard<2.9,>=2.8->tensorflow) (0.4.6)\n",
      "Requirement already satisfied: cachetools<6.0,>=2.0.0 in /home/jupyter-dunphya20/.local/lib/python3.9/site-packages (from google-auth<3,>=1.6.3->tensorboard<2.9,>=2.8->tensorflow) (5.0.0)\n",
      "Requirement already satisfied: rsa<5,>=3.1.4 in /home/jupyter-dunphya20/.local/lib/python3.9/site-packages (from google-auth<3,>=1.6.3->tensorboard<2.9,>=2.8->tensorflow) (4.8)\n",
      "Requirement already satisfied: pyasn1-modules>=0.2.1 in /home/jupyter-dunphya20/.local/lib/python3.9/site-packages (from google-auth<3,>=1.6.3->tensorboard<2.9,>=2.8->tensorflow) (0.2.8)\n",
      "Requirement already satisfied: requests-oauthlib>=0.7.0 in /home/jupyter-dunphya20/.local/lib/python3.9/site-packages (from google-auth-oauthlib<0.5,>=0.4.1->tensorboard<2.9,>=2.8->tensorflow) (1.3.1)\n",
      "Requirement already satisfied: importlib-metadata>=4.4 in /home/jupyter-dunphya20/.local/lib/python3.9/site-packages (from markdown>=2.6.8->tensorboard<2.9,>=2.8->tensorflow) (4.11.3)\n",
      "Requirement already satisfied: urllib3<1.27,>=1.21.1 in /opt/tljh/user/lib/python3.9/site-packages (from requests<3,>=2.21.0->tensorboard<2.9,>=2.8->tensorflow) (1.26.7)\n",
      "Requirement already satisfied: certifi>=2017.4.17 in /opt/tljh/user/lib/python3.9/site-packages (from requests<3,>=2.21.0->tensorboard<2.9,>=2.8->tensorflow) (2021.10.8)\n",
      "Requirement already satisfied: charset-normalizer~=2.0.0 in /opt/tljh/user/lib/python3.9/site-packages (from requests<3,>=2.21.0->tensorboard<2.9,>=2.8->tensorflow) (2.0.0)\n",
      "Requirement already satisfied: idna<4,>=2.5 in /opt/tljh/user/lib/python3.9/site-packages (from requests<3,>=2.21.0->tensorboard<2.9,>=2.8->tensorflow) (3.1)\n",
      "Requirement already satisfied: zipp>=0.5 in /home/jupyter-dunphya20/.local/lib/python3.9/site-packages (from importlib-metadata>=4.4->markdown>=2.6.8->tensorboard<2.9,>=2.8->tensorflow) (3.7.0)\n",
      "Requirement already satisfied: pyasn1<0.5.0,>=0.4.6 in /home/jupyter-dunphya20/.local/lib/python3.9/site-packages (from pyasn1-modules>=0.2.1->google-auth<3,>=1.6.3->tensorboard<2.9,>=2.8->tensorflow) (0.4.8)\n",
      "Requirement already satisfied: oauthlib>=3.0.0 in /opt/tljh/user/lib/python3.9/site-packages (from requests-oauthlib>=0.7.0->google-auth-oauthlib<0.5,>=0.4.1->tensorboard<2.9,>=2.8->tensorflow) (3.2.0)\n"
     ]
    }
   ],
   "source": [
    "!pip install transformers\n",
    "!pip install --upgrade tensorflow"
   ]
  },
  {
   "cell_type": "code",
   "execution_count": 4,
   "id": "f2799cab",
   "metadata": {},
   "outputs": [],
   "source": [
    "from transformers import InputExample, InputFeatures\n",
    "from transformers import DistilBertTokenizerFast\n",
    "from transformers import TFDistilBertForSequenceClassification"
   ]
  },
  {
   "cell_type": "code",
   "execution_count": 32,
   "id": "03c68634",
   "metadata": {},
   "outputs": [
    {
     "name": "stdout",
     "output_type": "stream",
     "text": [
      "                                                  text  Sentiment  ratings\n",
      "0    If you decide to eat here, just be aware it is...          1        3\n",
      "1    I've taken a lot of spin classes over the year...          1        5\n",
      "2    Family diner. Had the buffet. Eclectic assortm...          1        3\n",
      "3    Wow!  Yummy, different,  delicious.   Our favo...          1        5\n",
      "4    Cute interior and owner (?) gave us tour of up...          1        4\n",
      "..                                                 ...        ...      ...\n",
      "995  I Recently vacationed in St. Petersburg with m...          1        5\n",
      "996  Very cool bar attached to the Alexander Hotel....          1        4\n",
      "997  This hotel is a gem in the heart of Philadelph...          1        5\n",
      "998  Was taken here today by a Colombian friend who...          1        5\n",
      "999  My friends and I all got one of each that were...          1        4\n",
      "\n",
      "[1000 rows x 3 columns]\n"
     ]
    }
   ],
   "source": [
    "import tensorflow as tf\n",
    "import pandas as pd\n",
    "df = pd.read_json('review_1000.json', lines=True)\n",
    "\n",
    "#get only the text\n",
    "#sentences = df.text.values\n",
    "\n",
    "#assigns positive of negative (words) to sentiment\n",
    "df[\"Sentiment\"] = df.stars.apply(lambda score: \"positive\" if score >= 3 else \"negative\")\n",
    "# change positive / negative to 1/ 0\n",
    "df['Sentiment'] = df['Sentiment'].map({'positive':1, 'negative':0})\n",
    "df['ratings'] = df.stars\n",
    "#just show the review and the new 1/0 \n",
    "df = df[[\"text\", \"Sentiment\", \"ratings\"]]\n",
    "\n",
    "print(df)"
   ]
  },
  {
   "cell_type": "code",
   "execution_count": 33,
   "id": "c2cb350c",
   "metadata": {},
   "outputs": [],
   "source": [
    "reviews = df.text.values.tolist()\n",
    "labels = df.Sentiment.tolist()\n",
    "stars = df.ratings.tolist()\n",
    "\n"
   ]
  },
  {
   "cell_type": "code",
   "execution_count": 7,
   "id": "4a634ca8",
   "metadata": {},
   "outputs": [
    {
     "name": "stdout",
     "output_type": "stream",
     "text": [
      "[\"If you decide to eat here, just be aware it is going to take about 2 hours from beginning to end. We have tried it multiple times, because I want to like it! I have been to it's other locations in NJ and never had a bad experience. \\n\\nThe food is good, but it takes a very long time to come out. The waitstaff is very young, but usually pleasant. We have just had too many experiences where we spent way too long waiting. We usually opt for another diner or restaurant on the weekends, in order to be done quicker.\", \"I've taken a lot of spin classes over the years, and nothing compares to the classes at Body Cycle. From the nice, clean space and amazing bikes, to the welcoming and motivating instructors, every class is a top notch work out.\\n\\nFor anyone who struggles to fit workouts in, the online scheduling system makes it easy to plan ahead (and there's no need to line up way in advanced like many gyms make you do).\\n\\nThere is no way I can write this review without giving Russell, the owner of Body Cycle, a shout out. Russell's passion for fitness and cycling is so evident, as is his desire for all of his clients to succeed. He is always dropping in to classes to check in/provide encouragement, and is open to ideas and recommendations from anyone. Russell always wears a smile on his face, even when he's kicking your butt in class!\"]\n",
      "[1, 1]\n"
     ]
    }
   ],
   "source": [
    "print(reviews[:2])\n",
    "print(labels[:2])"
   ]
  },
  {
   "cell_type": "code",
   "execution_count": 8,
   "id": "4d116ba8",
   "metadata": {},
   "outputs": [],
   "source": [
    "from sklearn.model_selection import train_test_split\n",
    "training_sentences, validation_sentences, training_labels, validation_labels = train_test_split(reviews, labels, test_size=.2)"
   ]
  },
  {
   "cell_type": "code",
   "execution_count": 9,
   "id": "602165a8",
   "metadata": {},
   "outputs": [],
   "source": [
    "tokenizer = DistilBertTokenizerFast.from_pretrained('distilbert-base-uncased')\n"
   ]
  },
  {
   "cell_type": "code",
   "execution_count": 10,
   "id": "46f2528e",
   "metadata": {},
   "outputs": [
    {
     "data": {
      "text/plain": [
       "{'input_ids': [[101, 1045, 2293, 2023, 2173, 1012, 1012, 1012, 2644, 7188, 1045, 2064, 1025, 2593, 2012, 2023, 3295, 2030, 1996, 4407, 2028, 1012, 1045, 2071, 4521, 1996, 13988, 2378, 2806, 12559, 2296, 2154, 1997, 1996, 2733, 1012, 2021, 9826, 1010, 2035, 1997, 2037, 2833, 2003, 2204, 1012, 1045, 1005, 1049, 5791, 1037, 5470, 1997, 2037, 10442, 10439, 20624, 6290, 1012, 2111, 2064, 7475, 2055, 2129, 14469, 3973, 20980, 2009, 2003, 1012, 1012, 1012, 3649, 1012, 1996, 2069, 2173, 1045, 1005, 2310, 2941, 2018, 20980, 2833, 5510, 3599, 2066, 2027, 3710, 1999, 20980, 2874, 2001, 2043, 1045, 2253, 2000, 15898, 8566, 1012, 2023, 2173, 2003, 2092, 4276, 5983, 2012, 1012, 102]], 'attention_mask': [[1, 1, 1, 1, 1, 1, 1, 1, 1, 1, 1, 1, 1, 1, 1, 1, 1, 1, 1, 1, 1, 1, 1, 1, 1, 1, 1, 1, 1, 1, 1, 1, 1, 1, 1, 1, 1, 1, 1, 1, 1, 1, 1, 1, 1, 1, 1, 1, 1, 1, 1, 1, 1, 1, 1, 1, 1, 1, 1, 1, 1, 1, 1, 1, 1, 1, 1, 1, 1, 1, 1, 1, 1, 1, 1, 1, 1, 1, 1, 1, 1, 1, 1, 1, 1, 1, 1, 1, 1, 1, 1, 1, 1, 1, 1, 1, 1, 1, 1, 1, 1, 1, 1, 1, 1, 1, 1, 1, 1]]}"
      ]
     },
     "execution_count": 10,
     "metadata": {},
     "output_type": "execute_result"
    }
   ],
   "source": [
    "tokenizer([training_sentences[0]], truncation=True,\n",
    "                            padding=True, max_length=128)"
   ]
  },
  {
   "cell_type": "code",
   "execution_count": 11,
   "id": "2ff4c1b9",
   "metadata": {},
   "outputs": [],
   "source": [
    "train_encodings = tokenizer(training_sentences,\n",
    "                            truncation=True,\n",
    "                            padding=True)\n",
    "val_encodings = tokenizer(validation_sentences,\n",
    "                            truncation=True,\n",
    "                            padding=True)"
   ]
  },
  {
   "cell_type": "code",
   "execution_count": 12,
   "id": "f788d2ff",
   "metadata": {},
   "outputs": [
    {
     "name": "stderr",
     "output_type": "stream",
     "text": [
      "2022-04-11 13:49:59.017904: W tensorflow/stream_executor/platform/default/dso_loader.cc:64] Could not load dynamic library 'libcuda.so.1'; dlerror: libcuda.so.1: cannot open shared object file: No such file or directory\n",
      "2022-04-11 13:49:59.017937: W tensorflow/stream_executor/cuda/cuda_driver.cc:269] failed call to cuInit: UNKNOWN ERROR (303)\n",
      "2022-04-11 13:49:59.017955: I tensorflow/stream_executor/cuda/cuda_diagnostics.cc:156] kernel driver does not appear to be running on this host (cet-herndon-jupyter): /proc/driver/nvidia/version does not exist\n",
      "2022-04-11 13:49:59.018243: I tensorflow/core/platform/cpu_feature_guard.cc:151] This TensorFlow binary is optimized with oneAPI Deep Neural Network Library (oneDNN) to use the following CPU instructions in performance-critical operations:  AVX2 FMA\n",
      "To enable them in other operations, rebuild TensorFlow with the appropriate compiler flags.\n"
     ]
    }
   ],
   "source": [
    "train_dataset = tf.data.Dataset.from_tensor_slices((\n",
    "    dict(train_encodings),\n",
    "    training_labels\n",
    "))\n",
    "\n",
    "val_dataset = tf.data.Dataset.from_tensor_slices((\n",
    "    dict(val_encodings),\n",
    "    validation_labels\n",
    "))\n"
   ]
  },
  {
   "cell_type": "code",
   "execution_count": 13,
   "id": "c4a8219b",
   "metadata": {},
   "outputs": [
    {
     "name": "stderr",
     "output_type": "stream",
     "text": [
      "2022-04-11 13:50:01.691991: W tensorflow/python/util/util.cc:368] Sets are not currently considered sequences, but this may change in the future, so consider avoiding using them.\n",
      "Some layers from the model checkpoint at distilbert-base-uncased were not used when initializing TFDistilBertForSequenceClassification: ['vocab_projector', 'vocab_layer_norm', 'activation_13', 'vocab_transform']\n",
      "- This IS expected if you are initializing TFDistilBertForSequenceClassification from the checkpoint of a model trained on another task or with another architecture (e.g. initializing a BertForSequenceClassification model from a BertForPreTraining model).\n",
      "- This IS NOT expected if you are initializing TFDistilBertForSequenceClassification from the checkpoint of a model that you expect to be exactly identical (initializing a BertForSequenceClassification model from a BertForSequenceClassification model).\n",
      "Some layers of TFDistilBertForSequenceClassification were not initialized from the model checkpoint at distilbert-base-uncased and are newly initialized: ['classifier', 'dropout_19', 'pre_classifier']\n",
      "You should probably TRAIN this model on a down-stream task to be able to use it for predictions and inference.\n"
     ]
    }
   ],
   "source": [
    "model = TFDistilBertForSequenceClassification.from_pretrained('distilbert-base-uncased',num_labels=2)\n"
   ]
  },
  {
   "cell_type": "code",
   "execution_count": 14,
   "id": "e8110e0c",
   "metadata": {},
   "outputs": [],
   "source": [
    "from sklearn.model_selection import train_test_split\n",
    "training_sentences, validation_sentences, training_labels, validation_labels = train_test_split(reviews, labels, test_size=.2)"
   ]
  },
  {
   "cell_type": "code",
   "execution_count": 15,
   "id": "cf8d68ea",
   "metadata": {},
   "outputs": [
    {
     "name": "stderr",
     "output_type": "stream",
     "text": [
      "Some layers from the model checkpoint at ./sentiment were not used when initializing TFDistilBertForSequenceClassification: ['dropout_19']\n",
      "- This IS expected if you are initializing TFDistilBertForSequenceClassification from the checkpoint of a model trained on another task or with another architecture (e.g. initializing a BertForSequenceClassification model from a BertForPreTraining model).\n",
      "- This IS NOT expected if you are initializing TFDistilBertForSequenceClassification from the checkpoint of a model that you expect to be exactly identical (initializing a BertForSequenceClassification model from a BertForSequenceClassification model).\n",
      "Some layers of TFDistilBertForSequenceClassification were not initialized from the model checkpoint at ./sentiment and are newly initialized: ['dropout_39']\n",
      "You should probably TRAIN this model on a down-stream task to be able to use it for predictions and inference.\n"
     ]
    }
   ],
   "source": [
    "model.save_pretrained(\"./sentiment\")\n",
    "loaded_model = TFDistilBertForSequenceClassification.from_pretrained(\"./sentiment\")\n"
   ]
  },
  {
   "cell_type": "raw",
   "id": "50e3bcc1",
   "metadata": {},
   "source": []
  },
  {
   "cell_type": "code",
   "execution_count": 36,
   "id": "d4aacdc5",
   "metadata": {},
   "outputs": [
    {
     "name": "stdout",
     "output_type": "stream",
     "text": [
      "---- COMPARE 1  Positive ---- Positive ----  3\n",
      "If you decide to eat here, just be aware it is going to take about 2 hours from beginning to end. We have tried it multiple times, because I want to like it! I have been to it's other locations in NJ and never had a bad experience. \n",
      "\n",
      "The food is good, but it takes a very long time to come out. The waitstaff is very young, but usually pleasant. We have just had too many experiences where we spent way too long waiting. We usually opt for another diner or restaurant on the weekends, in order to be done quicker.\n",
      "---- COMPARE 1  Positive ---- Positive ----  5\n",
      "I've taken a lot of spin classes over the years, and nothing compares to the classes at Body Cycle. From the nice, clean space and amazing bikes, to the welcoming and motivating instructors, every class is a top notch work out.\n",
      "\n",
      "For anyone who struggles to fit workouts in, the online scheduling system makes it easy to plan ahead (and there's no need to line up way in advanced like many gyms make you do).\n",
      "\n",
      "There is no way I can write this review without giving Russell, the owner of Body Cycle, a shout out. Russell's passion for fitness and cycling is so evident, as is his desire for all of his clients to succeed. He is always dropping in to classes to check in/provide encouragement, and is open to ideas and recommendations from anyone. Russell always wears a smile on his face, even when he's kicking your butt in class!\n",
      "---- COMPARE 1  Positive ---- Positive ----  3\n",
      "Family diner. Had the buffet. Eclectic assortment: a large chicken leg, fried jalapeño, tamale, two rolled grape leaves, fresh melon. All good. Lots of Mexican choices there. Also has a menu with breakfast served all day long. Friendly, attentive staff. Good place for a casual relaxed meal with no expectations. Next to the Clarion Hotel.\n",
      "---- COMPARE 1  Positive ---- Positive ----  5\n",
      "Wow!  Yummy, different,  delicious.   Our favorite is the lamb curry and korma.  With 10 different kinds of naan!!!  Don't let the outside deter you (because we almost changed our minds)...go in and try something new!   You'll be glad you did!\n",
      "---- COMPARE 1  Positive ---- Positive ----  4\n",
      "Cute interior and owner (?) gave us tour of upcoming patio/rooftop area which will be great on beautiful days like today. Cheese curds were very good and very filling. Really like that sandwiches come w salad, esp after eating too many curds! Had the onion, gruyere, tomato sandwich. Wasn't too much cheese which I liked. Needed something else...pepper jelly maybe. Would like to see more menu options added such as salads w fun cheeses. Lots of beer and wine as well as limited cocktails. Next time I will try one of the draft wines.\n",
      "---- COMPARE 1  Negative ---- Positive ----  1\n",
      "I am a long term frequent customer of this establishment. I just went in to order take out (3 apps) and was told they're too busy to do it. Really? The place is maybe half full at best. Does your dick reach your ass? Yes? Go fuck yourself! I'm a frequent customer AND great tipper. Glad that Kanella just opened. NEVER going back to dmitris!\n",
      "---- COMPARE 1  Positive ---- Positive ----  5\n",
      "Loved this tour! I grabbed a groupon and the price was great. It was the perfect way to explore New Orleans for someone who'd never been there before and didn't know a lot about the history of the city. Our tour guide had tons of interesting tidbits about the city, and I really enjoyed the experience. Highly recommended tour. I actually thought we were just going to tour through the cemetery, but she took us around the French Quarter for the first hour, and the cemetery for the second half of the tour. You'll meet up in front of a grocery store (seems strange at first, but it's not terribly hard to find, and it'll give you a chance to get some water), and you'll stop at a visitor center part way through the tour for a bathroom break if needed. This tour was one of my favorite parts of my trip!\n",
      "---- COMPARE 1  Positive ---- Positive ----  5\n",
      "Amazingly amazing wings and homemade bleu cheese. Had the ribeye: tender, perfectly prepared, delicious. Nice selection of craft beers. Would DEFINITELY recommend checking out this hidden gem.\n",
      "---- COMPARE 1  Positive ---- Positive ----  3\n",
      "This easter instead of going to Lopez Lake we went to Los Padres National Forest which is really pretty but if you go to white rock the staff needs to cut down all the dead grass that invades the rock and the water. I would wish the staff would also clean or get rid of the dead grass that's also living by the water. The water is really green and dirty. Los padres national forest staff need to work hard to maintain this forest looking pretty and not like a dumpster. Even Cachuma lake looks like they put a bit more effort.\n",
      "---- COMPARE 1  Positive ---- Positive ----  3\n",
      "Had a party of 6 here for hibachi. Our waitress brought our separate sushi orders on one plate so we couldn't really tell who's was who's and forgot several items on an order. I understand making mistakes but the restaraunt was really quiet so we were kind of surprised. Usually hibachi is a fun lively experience and our  cook  said maybe three words, but he cooked very well his name was Francisco. Service was fishy, food was pretty good, and im hoping it was just an off night here. But for the money I wouldn't go back.\n",
      "---- COMPARE 1  Positive ---- Positive ----  5\n",
      "My experience with Shalimar was nothing but wonderful. \n",
      "I wanted to get my engagement ring sized and was told over the phone that it could probably be done within the day. \n",
      "When I brought it by, the team confirmed that the jeweler would be able to accommodate my same-day request and that it would be around $40 (simple band, decrease by three full sizes).\n",
      "I checked my size one more time, confirmed, and left to let them do their thing.\n",
      "When I came to pick up later that afternoon, the ring was too small. It's very important to note that Shalimar sized the ring perfectly, but that I made a mistake and should've gone up a half-size.\n",
      "The Shalimar group were completely understanding and accommodating, even resizing my ring back up and getting it back to me within an hour at no charge! Even though it was my mistake!\n",
      "The associates' attitudes in dealing with what was a pretty embarrassing situation instantly earned my satisfaction and loyalty as a customer. Very grateful for such a wonderful experience.\n",
      "---- COMPARE 1  Positive ---- Positive ----  4\n",
      "Locals recommended Milktooth, and it's an amazing jewel of Indianapolis. I'm glade I had the chance to experience this.\n",
      "---- COMPARE 1  Positive ---- Positive ----  4\n",
      "Love going here for happy hour or dinner!  Great patio with fans to beat the StL heat!   Also...very accomodating at this location.  I like the Veal Milanese but with mixed greens instead of pasta!  they'll modify the menu to suit your taste!\n",
      "---- COMPARE 1  Positive ---- Positive ----  4\n",
      "Good food--loved the gnocchi with marinara\n",
      "the baked eggplant appetizer was very good too\n",
      "\n",
      "The service was very slow, but despite this, I'd go back, the food is just that good\n",
      "---- COMPARE 1  Positive ---- Positive ----  4\n",
      "The bun makes the Sonoran Dog. It's like a snuggie for the pup. A first, it seems ridiculous and almost like it's going to be too much, exactly like everyone's favorite blanket with sleeves. Too much softness, too much smush, too indulgent.  Wrong. It's warm, soft, chewy, fragrant, and it succeeds where other famed Sonoran Dogs fail. \n",
      "\n",
      "The hot dog itself is flavorful, but I would prefer that it or the bacon have a little more bite or snap to better hold their own against the dominant mustard and onions. \n",
      "\n",
      "I'm with the masses on the carne asada caramelo. Excellent tortilla, salty, melty cheese, and great carne. \n",
      "\n",
      "Super cheap and you can drive through.\n",
      "---- COMPARE 1  Positive ---- Positive ----  5\n",
      "Great place for breakfast! I had the waffle, which was fluffy and perfect, and home fries which were nice and smashed and crunchy. Friendly waitstaff. Will definitely be back!\n",
      "---- COMPARE 1  Positive ---- Positive ----  5\n",
      "Tremendous service (Big shout out to Douglas) that complemented the delicious food. Pretty expensive establishment (40-50$ avg for your main course), but its definitely backs that up with an atmosphere that's comparable with any of the top tier restaurants across the country.\n",
      "---- COMPARE 1  Positive ---- Positive ----  4\n",
      "The hubby and I have been here on multiple occasions and we have loved every part of the meal, every single time. Everyone from the servers to the bartender is very knowledgable about the menu and was able to immediately recommend items I could eat as-is, substitute or delete to make something safe for this Celiac girl to eat. The wine and cocktail menus are spot on. The food divine.  My only wish is that they would have a gluten-free dessert, we've always had to go elsewhere for something sweet. But that is not a big deal and I still want to go here time and time again.\n"
     ]
    },
    {
     "name": "stdout",
     "output_type": "stream",
     "text": [
      "---- COMPARE 1  Positive ---- Positive ----  5\n",
      "I go to blow bar to get my brows done by natalie (brow specialist) which i highly recommend she is great does a great job on my eyebrows! But then i got a blow by victoria!! Wow i was impress i have thin, straight, dead hair and she left me with the biggest volume ive ever had!!! Tried another girl but didnt like it as much so victoria will be my girl for ever; very beautiful clean place!!!\n",
      "---- COMPARE 1  Positive ---- Positive ----  5\n",
      "My absolute favorite cafe in the city. Their black and white latte is probably the best I've ever had (not too sweet and just the right amount of foam), soups are always really good (even for non-soup people) and there's just a lot of space to do work. The noise level is perfect, the music is at a perfect level, and I always enjoy when patrons bring their dogs. I'll keep giving them my business for as long as I can.\n",
      "---- COMPARE 1  Positive ---- Positive ----  5\n",
      "HOLY SMOKES!\n",
      "\n",
      "actual pumpkin pie mixed in with the frozen custard......are you kidding me? Why hasn't this become a huge sweep the nation treat. \n",
      "\n",
      "The best part was the chunks of pie crust. Like finding a diamond inside another diamond. Super yummy.\n",
      "---- COMPARE 1  Positive ---- Positive ----  3\n",
      "Upland is a brewery based out of Bloomington, Indiana that has become popular enough to open up a couple additional locations in central Indiana.  All of their beers are very good, and I am also a fan of their burgers and tenderloins.  Therefore, I was excited to try their pizza, but I don't think it ended up being on par with these other items.  My margherita pizza had a cracker-like crust and was pretty light overall.  The cheese was good, but none of the other toppings added much flavor.  There was no red sauce as is typical for a true margherita pizza.  My opinion is that Upland's pizza might serve as a nice appetizer for a group, but I'll be sticking with their burgers or tenderloins as my meal of choice on future visits.\n",
      "---- COMPARE 1  Positive ---- Positive ----  5\n",
      "I thoroughly enjoyed the show.  Chill way to spend a Friday night.\n",
      "---- COMPARE 1  Positive ---- Positive ----  4\n",
      "Yes, this is the only sushi place in town. However, it is great when you're craving sushi and don't have time to go somewhere else. The salmon is probably the best fish they have, so we always order salmon. We also love their spicy edamame, tempura, ocean salad, and cabbage salad. Service has always been friendly and quick!\n",
      "---- COMPARE 1  Positive ---- Positive ----  4\n",
      "I was really between 3 and 4 stars for this one. I LOVE the 96th street Naked Tchopstix so I was very excited to see this one which is closer to my house.\n",
      "The vibe is totally different as this is geared more to take out although they do have a decent size dining area. You order at the counter and they deliver it.\n",
      "My daughter and I tried the sushi bowl. You pick up a piece of paper and  select from a choice of proteins, vegetables, rice and toppings. I like the fact that it is on paper and you don't have to guess what things are or have to shout over the counter to tell the server what you want. The sushi bowl was good but not wonderful. The choices particularly of the vegetables seemed a little too limiting and I felt I had more rice than other food items. The sauces were tasty. My husband ordered the Maui roll which is my favorite roll at the 96th street location and this just was not up that standard. It was good but the quality and consistently was not as good as at 96th street. I would go back though and I think a lot of people would be happy with the sushi bowls. I do want to make a comment about the low reviews that people have given the place because of service. People - it is a sushi place - it isn't McDonalds- so it will be a bit slower. You are not going to order and get out of there in five minutes even though it is called express. As a healthy alternative to fast food in the area, it is worth the wait. Oh and try the bubble tea. I had the strawberry and it was quite yummy. Next time I am going to try the vanilla chai.\n",
      "---- COMPARE 1  Positive ---- Positive ----  4\n",
      "Went for lunch. Beef brisket sandwich was awesome.   So juicy and tender.    Pulled pork was was just as good!\n",
      "---- COMPARE 1  Positive ---- Positive ----  5\n",
      "Best thai food in the area.  Everything was authentic and delicious.  Will definitely be back again and again.\n",
      "---- COMPARE 1  Positive ---- Positive ----  3\n",
      "Service was crappy, and food was mediocre.  I wish I would have picked some other place for my last dinner in town.\n",
      "---- COMPARE 1  Positive ---- Positive ----  5\n",
      "I recently had dinner here with my wife over the weekend and could not have been more pleased! \n",
      "\n",
      "Our meal was excellent! My wife and I were astounded by how quickly our food came out! Everything tasted fresh and homemade which we both appreciated. \n",
      "\n",
      "The only problem was trying to pick something from the menu as there were too many delicious sounding items to choose from. We will definitely be returning to try more items! Can't wait to see what the next chef specials will be!\n",
      "---- COMPARE 1  Negative ---- Positive ----  2\n",
      "I at least have to give this restaurant two stars due to the decent food. But while on a dinner meeting and after spending $100 on entrées and appetizers, I had to flag down the assistant cook, (the guy in bright red baggy pants watching TV), to see if I could get more avocado for my tuna entrée.  He made it very apparent and direct that he could not help me with that situation and I would have to flag down my  waitress so she could bill me for the four dollar avocado.\n",
      "---- COMPARE 1  Positive ---- Positive ----  5\n",
      "First time there and it was excellent!!! It feels like your are entering someone's home. The waiters there funny and nice. The food come out very quickly and it is phenomenal!!! Definitely will be going back to this place.\n",
      "---- COMPARE 1  Positive ---- Positive ----  5\n",
      "Great burgers,fries and salad!  Burgers have a hint of salt and pepper flavor.\n",
      "\n",
      "This location is very quaint. They only have outdoor seating\n",
      "\n",
      "Friendly staff.\n",
      "\n",
      "Street parking as well as parking lot in the back.\n",
      "---- COMPARE 1  Positive ---- Positive ----  5\n",
      "Great staff always helps and always nice. Always clean and huge store size. Stays stocked with everything you need. The staff always helps make my custom breakfast bagel\n",
      "---- COMPARE 1  Positive ---- Positive ----  5\n",
      "Took my vehicle here for some work a few years ago for a manufacturer recall. Problem went away and then started hearing another noise which I thought was related, but turned out was a completely different issue. Kevin and his mechanic lifted my car right up and fixed the issue FREE OF CHARGE even though I told them I'd pay. Outstanding individuals for doing that. Highly recommend!\n",
      "---- COMPARE 1  Positive ---- Positive ----  4\n",
      "After my ROTD  yesterday of a different Sweet CeCe's location, I realized that I had never reviewed my local source!  Anyway, I love the product.  Love love love.  And I usually like their selection of toppings - good mix between healthy and not-so-healthy.  Sometimes the girls working there aren't really paying attention or are nowhere to be found.  Sometimes you have to remind them of their deals (like $5 Friday).  But I can't give it less than 4 stars because I just love it so much.\n",
      "---- COMPARE 1  Positive ---- Positive ----  5\n",
      "What a great addition to the Funk Zone!  Grab a bite, grab some tastings, life is good. Right next door to the Santa Barbara Wine Collective, in fact it actually shares the same tables.  We had a fabulous savory croissant.\n",
      "---- COMPARE 1  Positive ---- Positive ----  5\n",
      "Nice relaxing place to get a massage! Same day appointments are easy to come by! I have never been disappointed with any therapist I have had at the Center!\n",
      "---- COMPARE 1  Positive ---- Positive ----  4\n",
      "We checked in around 2:30 pm.  Check-in was quick and easy with complimentary valet parking (always appreciated).  The Peppermill is huge and reminded us of the Caesars Palace in Las Vegas.  They have around eight restaurants on site offering almost any type of food you could want.  The casino area is huge, rivaling almost anything you could find in Las Vegas.  One thing we noticed is that many of the slot machines were noted as being penny machines, but when you actually started to play them you realized they had minimum bets of anywhere from 30 cents to $5.  Talk about false advertising!  We were in the Tuscany Tower on the 12th floor.  Our room had a nice view of the huge pool area.  Our room was large and featured free WiFi (likewise always appreciated), a huge bathroom area with large shower (with two shower heads), TV, a large jetted bathtub and a phone next to the commode.  There were dual sinks and lots of counter space.  Plenty of towels were supplied.  The roomy main area had a king bed with night stands, closet, TV, mini fridge, dresser with two drawers, a safe, table for computer or writing, complimentary bottles of water, and three nicely upholstered chairs and table.  The thermostat did a good job controlling the temperature and keeping it comfortable.  Staff were all courteous and helpful.  A very nice place and we enjoyed our stay.\n",
      "---- COMPARE 1  Positive ---- Positive ----  5\n",
      "My boyfriend and I tried this deli for the first time today. I had a turkey, avocado & bacon panini and he ha a buffalo chicken wrap. We will definitely be returning. The wait for food wasn't too long, which is always appreciated during lunch hour. There was SO much to choose from. They have salads, soup, macaroni, sandwiches and hot food. I love a deli that has many options to choose from!\n",
      "---- COMPARE 1  Positive ---- Positive ----  5\n",
      "Amazing biscuits and (fill in the blank). Great cocktails too. Highly recommended. A bit busy though.\n"
     ]
    },
    {
     "name": "stdout",
     "output_type": "stream",
     "text": [
      "---- COMPARE 1  Positive ---- Positive ----  4\n",
      "Food was good- atmosphere/decor is like a fishing lodge- menu is someplace between outback & bonefish. Went on a Groupon & all 3 of our meals & calamari appetizer that we ordered were cooked perfectly- we will def be back.\n",
      "---- COMPARE 1  Negative ---- Positive ----  2\n",
      "Straight to the point, it's cheap, it tastes and feels cheap\n",
      "\n",
      "The good: price, location, dessert (edible food items are: baked chicken, fried chicken, mashed potatoes, Salad bar lol, meat and cheese bar, ravioli, pizza) also our waitress was bomb af\n",
      "\n",
      "The meh: behind counter meat slicing station, shrimp (not even deveined), Mexican station\n",
      "\n",
      "The bad: breakfast -worst eggs ever, actually worst, eggs. Le Benedict can't even cut through ham or English muffin (tried on all 3 occasions), steak, shrimp again, hell breaded items can't even, don't even. Decor it's the 1970 nightmare you can imagine\n",
      "\n",
      "Tried 3 times and failed\n",
      "---- COMPARE 1  Positive ---- Positive ----  4\n",
      "The only reason I didn't give this restaurant a 5 star rating, is because of one single pretentious waiter. As a 4 night guest at Hotel Palomar, the location of the restaurant is an obvious plus. The first night of my stay, I met a coworker in the restaurant for a cocktail. When we arrived, the host staff were busy and not available, so we just walked in. The restaurant was not too busy, so we just looked at a small table next to the bar and proceeded to take a seat. A waiter came by and I quickly asked if we could have a seat, before sitting down and told him we'd only be having cocktails. He stumbled on his reply, and in an irritated/in-convinced tone, told me \"I guess it would be fine\" and basically just kept walking mid sentence. My guest and I brushed it off, and started having a conversation while looking at the drink menu. To make a long story short, he was distant and we both got the \"couldn't be bothered\" vibe from him. When it came to the bill, we asked if it could be split due to company transaction policies, and you would have thought asked him for some inconceivable task. We basically spent the rest of our night and elevator ride to our room in shock of the rudeness we had just experienced. \n",
      "\n",
      "Although that situation left a bad taste in our mouth, and the night before we decided to avoid the restaurant, we decided to grab another cocktail and give this place one more try. After looking around and ensuring \"last nights waiter\" wasn't on shift, we walked over to the bar and started looking over the menu. Instantly, the bartender greeted us with pleasant small talk and made us feel 100% welcome. He asked about our day, recommended cocktails and was a completely genuine person. This guy (I think his name was Ben) is an absolute star! He gave us lessons on Whiskey, described how to make classic cocktails, and was 100% invested in our experience. This is exactly what a bartender at a 4/5 star establishment should be - actually he exceeds that. He was kind, funny, friendly and completely redeemed this restaurant/bar from our terrible experience the night before. \n",
      "I also ordered room service last night from this restaurant, and it was amazing. The bacon wrapped dates and chocolate cake are to die for! Great restaurant and amazing bartender(s). Too bad one bad egg could have spoiled this experience.\n",
      "---- COMPARE 1  Positive ---- Positive ----  5\n",
      "Stopped by after a Sunday morning walk in the park - great food, coffee customer service - love the vibe in here\n",
      "---- COMPARE 1  Positive ---- Positive ----  3\n",
      "In a word... \"OVERRATED!\".  The food took forever to come out.  The burger was WAY overcooked (Especially when I ordered it Medium Rare) and the Seafood Jumbalaya was Decent.  Not worth the price.  There are better places to eat in the french quarter.  It was not horrible, but for everything that we had heard about this place, I would have expected much better.\n",
      "---- COMPARE 1  Positive ---- Positive ----  4\n",
      "Comfortable bed, good breakfast, fast internet, great location, and low price. Overall I was really impressed with this place. However, if you stay on the top floors you may be waiting up to 15 minutes for an elevator in the morning.\n",
      "---- COMPARE 1  Negative ---- Positive ----  2\n",
      "NEVER AGAIN. This is a so called restaurant that does nothing that a restaurant should other than prepare food, because the rest is done by the patron. Want water? Get up and go across the yard to get it. Want a drink, walk up a flight of stairs and pay cash. Want to sit in a dirty yard in dirty lawn chairs, enjoy yourself. The wait staff is mildy helpful in that they bring you your food after you go to the window and pay cash for it...kind of like New Orleans Hamburger and Seafood, but dirty and with live music (which is nice). It's a one in a lifetime experience for me...just once.\n",
      "---- COMPARE 1  Negative ---- Positive ----  1\n",
      "If you want to pay for everything a la carte this is the place for you.  \n",
      "Food wasn't terrible not impressive.\n",
      "They brought a basket of chips and some tomato sauce which I asked politely for something spicier and some pico de gallo.  She brought them happily to me and the salsa was much better.  When asked what we would like to drink I asked for a coke and she brought out a bottle which I stated I wanted the fountain drink.  She said \"oh that's only Pepsi\".  Never mentioned that they only had bottle drinks for coke.  \n",
      "We ordered our food which was reasonably priced, asked for sour cream and also to put cheese on the taco.  She let us know cheese was extra.  \n",
      "It was $2.50 extra for another basket of chips.  \n",
      "When I received the bill we paid more for the condiments then the actual food.  Side of sour cream 2.00, pico de gallo 2.50, salsa 2.00, chips 2.50, cheese 1.00 and the bottled coke that we didn't want 5.00.  \n",
      "Just a suggestion...when you order anything make sure to ask if there is an extra charge.\n",
      "---- COMPARE 1  Positive ---- Positive ----  4\n",
      "The cafe was extremely cute. We came at 8am and they even had a jazz band playing at that time. I got the breakfast sandwich and it was delicious. I loved how they rolled the egg and put the bacon pieces inside. Great price for a filling breakfast!\n",
      "---- COMPARE 1  Positive ---- Positive ----  5\n",
      "On a scale of one to things that are awesome, this place is the bomb. \n",
      "\n",
      "I was drawn in by the promise of the duckfat frenchfries. Took the boy for his birthday and put our name in, had a drink around the corner while we waited and were given seats at the bar after about 45 minutes. \n",
      "\n",
      "We were waited on by Keith, the bartender, who was congenial, knowledgeable about his whiskeys and an all-around cool guy. We started with 3 cape may salts (two for me, one for the boy) and tater tots, both of which made me happy.\n",
      "\n",
      "For dinner, I got Kentucky Fried Quail (stellar, though the succotash was not as exciting as I wanted it to be) and the boy got the 24$ Fois Gras burger, which was incredible. Worth every penny. The duckfat fries were pretty yummy, but not even the best part of the meal. I could've done without the cheese sauce, but as it was on the side I wasn't deterred.\n",
      "\n",
      "I look forward to coming back here, with everyone I know.\n"
     ]
    }
   ],
   "source": [
    "labelString = ['Negative','Positive']\n",
    "\n",
    "# test each review\n",
    "# middle_index=len(reviews)//2\n",
    "\n",
    "# first_half=reviews[:middle_index]\n",
    "# sec_half=reviews[middle_index:]\n",
    "# label_first_half = labels[:middle_index]\n",
    "# label_sec_half = labels[middle_index:]\n",
    "index = 0\n",
    "for item1 in reviews:\n",
    "    # compare to item1 in second half\n",
    "    predict_input = tokenizer.encode(item1,\n",
    "                                 truncation=True,\n",
    "                                 padding=True,\n",
    "                                 return_tensors=\"tf\")\n",
    "    tf_output = loaded_model.predict(predict_input)[0]\n",
    "    tf_prediction = tf.nn.softmax(tf_output, axis=1)\n",
    "    label = tf.argmax(tf_prediction, axis=1)\n",
    "    label = label.numpy()\n",
    "    print('---- COMPARE 1 ',labelString[labels[index]],'----', labelString[label[0]], '---- ', stars[index])\n",
    "    print(item1)\n",
    "    \n",
    "    index = index + 1\n",
    "    if index == 50:\n",
    "        break\n",
    " "
   ]
  },
  {
   "cell_type": "code",
   "execution_count": null,
   "id": "886586e0",
   "metadata": {},
   "outputs": [],
   "source": []
  }
 ],
 "metadata": {
  "kernelspec": {
   "display_name": "Python 3 (ipykernel)",
   "language": "python",
   "name": "python3"
  },
  "language_info": {
   "codemirror_mode": {
    "name": "ipython",
    "version": 3
   },
   "file_extension": ".py",
   "mimetype": "text/x-python",
   "name": "python",
   "nbconvert_exporter": "python",
   "pygments_lexer": "ipython3",
   "version": "3.9.7"
  }
 },
 "nbformat": 4,
 "nbformat_minor": 5
}
